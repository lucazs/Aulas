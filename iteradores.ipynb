{
 "cells": [
  {
   "cell_type": "markdown",
   "metadata": {
    "deletable": true,
    "editable": true
   },
   "source": [
    "Iteradores e geradores\n",
    "==="
   ]
  },
  {
   "cell_type": "markdown",
   "metadata": {
    "deletable": true,
    "editable": true
   },
   "source": [
    "Temos visto uma variedade de tipos em Python que se comportam como sequências, ou seja, onde podemos começar com um elemento e percorrer os vários elementos do dado sucessivamente.  Exemplos de sequência incluem listas, tupla, strings, dicionários e conjuntos.\n",
    "\n",
    "Esta ideia de sequência pode ser generalizada através dos iteradores, que são objetos que contém o método `__next__()`, que retorna o próximo elemento.  Podemos pensar nos iteradores como ponteiros para acesso sequencial aos elementos de um container, como por exemplo, uma lista.  O método `__next__()` pode ser chamado usando a função `next()` no iterador.\n",
    "\n",
    "O container, da sua parte, define o método `__iter__()` que retorna um iterador para ele.  De forma semelhante a `next()`, podemos chamar o método `__iter__()` usando a função `iter()` no iterador.\n",
    "\n",
    "Observe que diferentes iteradores de um container são independentes entre si."
   ]
  },
  {
   "cell_type": "code",
   "execution_count": null,
   "metadata": {
    "collapsed": false,
    "deletable": true,
    "editable": true
   },
   "outputs": [],
   "source": [
    "a = [1, 2, 3]\n",
    "b1 = a.__iter__()\n",
    "b2 = iter(a)\n",
    "print(\"O 1º valor de a através de b1:\", next(b1))\n",
    "print(\"O 2º valor de a através de b1:\", next(b1))\n",
    "print(\"O 3º valor de a através de b1:\", next(b1))\n",
    "print(\"O 1º valor de a através de b2:\", next(b2))\n",
    "print(\"O 2º valor de a através de b2:\", next(b2))\n",
    "print(\"O 3º valor de a através de b2:\", next(b2))"
   ]
  },
  {
   "cell_type": "code",
   "execution_count": null,
   "metadata": {
    "collapsed": false,
    "deletable": true,
    "editable": true
   },
   "outputs": [],
   "source": [
    "# Quando o iterador chega ao final do container ele lança uma\n",
    "# exceção do tipo StopIteration\n",
    "try:\n",
    "    print(next(b1))\n",
    "except StopIteration:\n",
    "    print(\"Final do container\")"
   ]
  },
  {
   "cell_type": "code",
   "execution_count": null,
   "metadata": {
    "collapsed": false,
    "deletable": true,
    "editable": true
   },
   "outputs": [],
   "source": [
    "# Uma classe definindo um iterador e outra usando-a como iterador\n",
    "# Lembre-se que o método __next__() deve lançar a exceção\n",
    "# StopIteration quando tiver chegado ao fim do container\n",
    "class MyIter:\n",
    "    \n",
    "    def __init__(self, container):\n",
    "        self.container = container\n",
    "        self.idx = -1\n",
    "    \n",
    "    def __next__(self):\n",
    "        self.idx += 1\n",
    "        if self.idx >= len(self.container):\n",
    "            raise StopIteration\n",
    "        return self.container[self.idx]\n",
    "    \n",
    "class MyContainer:\n",
    "    \n",
    "    def __init__(self, iv):\n",
    "        self.container = list(iv)\n",
    "        \n",
    "    def __iter__(self):\n",
    "        return MyIter(self.container)\n",
    "    \n",
    "\n",
    "c = MyContainer(set([1, 2, 3, 4, 5]))\n",
    "p = iter(c)\n",
    "print(\"1º valor de c é\", next(p))\n",
    "print(\"2º valor de c é\", next(p))\n",
    "print(\"3º valor de c é\", next(p))\n",
    "print(\"4º valor de c é\", next(p))\n",
    "print(\"5º valor de c é\", next(p))\n",
    "try:\n",
    "    print(\"1º valor de c é\", next(p))\n",
    "except StopIteration:\n",
    "    print(\"Final de iteração\")\n",
    "try:\n",
    "    print(\"1º valor de c é\", next(p))\n",
    "except StopIteration:\n",
    "    print(\"Final de iteração\")"
   ]
  },
  {
   "cell_type": "code",
   "execution_count": null,
   "metadata": {
    "collapsed": false,
    "deletable": true,
    "editable": true
   },
   "outputs": [],
   "source": [
    "# É muito comum, entretanto, que a classe container seja o seu\n",
    "# próprio iterador.  Isto é feito fazendo com que a classe\n",
    "# container contenha ambos os métodos __iter__() e __next__(),\n",
    "# onde o 1º método retorna `self`\n",
    "class NumerosPares:\n",
    "    def __init__(self, max_n):\n",
    "        self.n = 0\n",
    "        self.max_n = max_n\n",
    "        \n",
    "    def __next__(self):\n",
    "        if self.n >= self.max_n:\n",
    "            raise StopIteration\n",
    "        res = self.n\n",
    "        self.n += 2\n",
    "        return res\n",
    "    \n",
    "    def __iter__(self):\n",
    "        return self\n",
    "    \n",
    "c = NumerosPares(5)\n",
    "p = iter(c)\n",
    "print(\"c == p?\", p is c)\n",
    "print(\"1º número par:\", next(p))\n",
    "print(\"2º número par:\", next(p))\n",
    "print(\"3º número par:\", next(p))\n",
    "try:\n",
    "    print(\"4º número par:\", next(p))\n",
    "except StopIteration:\n",
    "    print(\"Fim de iteração\")"
   ]
  },
  {
   "cell_type": "markdown",
   "metadata": {
    "deletable": true,
    "editable": true
   },
   "source": [
    "Existem várias construções que sabem usar containers e seus iteradores.  O principal que vimos até agora é o `for`, tanto na sua versão usual como em list comprehensions.  Além destes, vimos o método `join()` de strings e os construtores de lista, tuplas, conjuntos e dicionários.  Todos estes sabem lidar com a exceção StopIteration lançada pelo iterador."
   ]
  },
  {
   "cell_type": "code",
   "execution_count": null,
   "metadata": {
    "collapsed": false,
    "deletable": true,
    "editable": true
   },
   "outputs": [],
   "source": [
    "# Exemplo clássico de consumo de um iterador\n",
    "print(\"Números pares menores do que 21:\", end=\" \")\n",
    "for n in NumerosPares(21):\n",
    "    print(n, end=\" \")\n",
    "print()\n",
    "\n",
    "# Outro exemplo muito comum\n",
    "lst = [str(n) for n in NumerosPares(30)]\n",
    "print(\"Números pares menores do que 30:\", \" \".join(lst))\n",
    "\n",
    "# Outro exemplo\n",
    "s1 = set(NumerosPares(51))\n",
    "s2 = set(range(3, 51, 3))  # Múltiplos de 3 menores do que 51\n",
    "print(\"Múltiplos pares de 3 menores do que 51:\", \" \".join(str(n) for n in s1 & s2))"
   ]
  },
  {
   "cell_type": "markdown",
   "metadata": {
    "deletable": true,
    "editable": true
   },
   "source": [
    "Com iteradores podemos fazer coisas poderosas do tipo ter um container que é potencialmente infinito em extensão e ainda assim não entrar em loop infinito."
   ]
  },
  {
   "cell_type": "code",
   "execution_count": null,
   "metadata": {
    "collapsed": false,
    "deletable": true,
    "editable": true
   },
   "outputs": [],
   "source": [
    "# Estendamos a classe de números pares acima para ser potencialmente\n",
    "# infinita.  Usaremos a função islice() do módulo itertools para\n",
    "# selecionar apenas alguns elementos.  Observe que com um iterador\n",
    "# não podemos usar o slice normal a não ser que convertamos primeiro\n",
    "# para uma lista, o que se o iterador for infinito não vamos querer\n",
    "# fazer\n",
    "# Referência: file:///usr/share/doc/python3/html/library/itertools.html#itertools.islice\n",
    "class NumerosPares:\n",
    "    def __init__(self):\n",
    "        self.n = 0\n",
    "        \n",
    "    def __next__(self):\n",
    "        res = self.n\n",
    "        self.n += 2\n",
    "        return res\n",
    "    \n",
    "    def __iter__(self):\n",
    "        return self\n",
    "\n",
    "from itertools import islice\n",
    "\n",
    "c = NumerosPares()\n",
    "print(\"Números pares de índices entre 1000000 e 1000010:\", end=\" \")\n",
    "for n in islice(c, 1000000, 1000010):\n",
    "    print(n, end=\" \")"
   ]
  },
  {
   "cell_type": "markdown",
   "metadata": {
    "deletable": true,
    "editable": true
   },
   "source": [
    "#### Exercício"
   ]
  },
  {
   "cell_type": "markdown",
   "metadata": {
    "deletable": true,
    "editable": true
   },
   "source": [
    "Defina um container que retorne os números de Fibonacci."
   ]
  },
  {
   "cell_type": "code",
   "execution_count": null,
   "metadata": {
    "collapsed": false,
    "deletable": true,
    "editable": true
   },
   "outputs": [],
   "source": [
    "# Testes para o gerador fibonacci\n",
    "import unittest\n",
    "from itertools import islice\n",
    "\n",
    "#\n",
    "# Defina o iterator fibonacci aqui\n",
    "#\n",
    "\n",
    "class MyTest(unittest.TestCase):\n",
    "\n",
    "    def test(self):\n",
    "        self.assertEqual(list(islice(fibonacci(), 400, 403)), \n",
    "                         [176023680645013966468226945392411250770384383304492191886725992896575345044216019675,\n",
    "                          284812298108489611757988937681460995615380088782304890986477195645969271404032323901,\n",
    "                          460835978753503578226215883073872246385764472086797082873203188542544616448248343576])\n",
    "\n",
    "unittest.main(argv=['first-arg-is-ignored'], exit=False)"
   ]
  },
  {
   "cell_type": "markdown",
   "metadata": {
    "deletable": true,
    "editable": true
   },
   "source": [
    "Geradores\n",
    "==="
   ]
  },
  {
   "cell_type": "markdown",
   "metadata": {
    "deletable": true,
    "editable": true
   },
   "source": [
    "Geradores é uma maneira de se criar iteradores que é ao mesmo tempo simples e intuitiva.  Basicamente um gerador tem a forma de uma função mas usa a instrução `yield` ao invés de `return`.  Esta instrução retorna o valor que é passado a ela para quem a chamou mas guarda o estado da função retornando a ele quando se chama `next()` no seu iterador.\n",
    "\n",
    "Se a função terminar, ela automaticamente lança a exceção StopIteration."
   ]
  },
  {
   "cell_type": "code",
   "execution_count": null,
   "metadata": {
    "collapsed": false,
    "deletable": true,
    "editable": true
   },
   "outputs": [],
   "source": [
    "# Vamos converter a classe NumerosPares para geradores\n",
    "def NumerosPares():\n",
    "    n = 0\n",
    "    while 1:\n",
    "        yield n\n",
    "        n += 2\n",
    "\n",
    "from itertools import islice\n",
    "\n",
    "print(\"Números pares de índices entre 1000000 e 1000010:\", end=\" \")\n",
    "for n in islice(NumerosPares(), 1000000, 1000010):\n",
    "    print(n, end=\" \")"
   ]
  },
  {
   "cell_type": "markdown",
   "metadata": {
    "deletable": true,
    "editable": true
   },
   "source": [
    "#### Exercício"
   ]
  },
  {
   "cell_type": "markdown",
   "metadata": {
    "deletable": true,
    "editable": true
   },
   "source": [
    "Defina um gerador que retorne os números de Fibonacci."
   ]
  },
  {
   "cell_type": "code",
   "execution_count": null,
   "metadata": {
    "collapsed": false,
    "deletable": true,
    "editable": true
   },
   "outputs": [],
   "source": [
    "# Testes para o gerador fibonacci\n",
    "import unittest\n",
    "from itertools import islice\n",
    "\n",
    "class MyTest(unittest.TestCase):\n",
    "\n",
    "    def test1(self):\n",
    "        self.assertEqual(list(islice(fibonacci(), 1)), [0])\n",
    "\n",
    "    def test2(self):\n",
    "        self.assertEqual(list(islice(fibonacci(), 1, 2)), [1])\n",
    "\n",
    "    def test3(self):\n",
    "        self.assertEqual(list(islice(fibonacci(), 20, 23)), [6765, 10946, 17711])\n",
    "\n",
    "unittest.main(argv=['first-arg-is-ignored'], exit=False)"
   ]
  },
  {
   "cell_type": "markdown",
   "metadata": {
    "deletable": true,
    "editable": true
   },
   "source": [
    "Expressões de geradores\n",
    "==="
   ]
  },
  {
   "cell_type": "markdown",
   "metadata": {
    "deletable": true,
    "editable": true
   },
   "source": [
    "A criação de geradores pode ficar ainda mais simples se usarmos as *expressões de geradores*, que nada mais são do que uma list comprehension envolta em parênteses ao invés de colchetes."
   ]
  },
  {
   "cell_type": "code",
   "execution_count": null,
   "metadata": {
    "collapsed": false,
    "deletable": true,
    "editable": true
   },
   "outputs": [],
   "source": [
    "\n",
    "for i in (n*n for n in range(1, 10)):\n",
    "    print(i, end=\" \")\n",
    "print()"
   ]
  },
  {
   "cell_type": "code",
   "execution_count": null,
   "metadata": {
    "collapsed": false,
    "editable": true
   },
   "outputs": [],
   "source": [
    "# A mesma expressão de gerador acima para criar a string completa antes de imprimi-la\n",
    "print(\" \".join(str(n*n) for n in range(1, 10)))"
   ]
  },
  {
   "cell_type": "markdown",
   "metadata": {
    "deletable": true,
    "editable": true
   },
   "source": [
    "#### Exercício"
   ]
  },
  {
   "cell_type": "markdown",
   "metadata": {
    "deletable": true,
    "editable": true
   },
   "source": [
    "Usando expressões de geradores, crie uma função que retorne uma string contendo um tabuleiro tipo tabuleiro de xadrez de dimensão $n$.  Veja o exemplo abaixo para um tabuleiro de tamanho 3 (tipo jogo da velha).\n",
    "\n",
    "     --- --- --- \n",
    "    |   |   |   |\n",
    "     --- --- --- \n",
    "    |   |   |   |\n",
    "     --- --- --- \n",
    "    |   |   |   |\n",
    "     --- --- ---`"
   ]
  },
  {
   "cell_type": "code",
   "execution_count": null,
   "metadata": {
    "collapsed": false,
    "deletable": true,
    "editable": true
   },
   "outputs": [],
   "source": [
    "import unittest\n",
    "from itertools import islice\n",
    "\n",
    "class MyTest(unittest.TestCase):\n",
    "\n",
    "    def test1(self):\n",
    "        expected = \"\"\" --- --- --- \n",
    "|   |   |   |\n",
    " --- --- --- \n",
    "|   |   |   |\n",
    " --- --- --- \n",
    "|   |   |   |\n",
    " --- --- --- \"\"\"\n",
    "        self.assertEqual(tabuleiro(3), expected)\n",
    "\n",
    "    def test1(self):\n",
    "        expected = \"\"\" --- --- --- --- \n",
    "|   |   |   |   |\n",
    " --- --- --- --- \n",
    "|   |   |   |   |\n",
    " --- --- --- --- \n",
    "|   |   |   |   |\n",
    " --- --- --- --- \n",
    "|   |   |   |   |\n",
    " --- --- --- --- \"\"\"\n",
    "        self.assertEqual(tabuleiro(4), expected)\n",
    "\n",
    "unittest.main(argv=['first-arg-is-ignored'], exit=False)"
   ]
  }
 ],
 "metadata": {
  "kernelspec": {
   "display_name": "Python 3",
   "language": "python",
   "name": "python3"
  },
  "language_info": {
   "codemirror_mode": {
    "name": "ipython",
    "version": 3
   },
   "file_extension": ".py",
   "mimetype": "text/x-python",
   "name": "python",
   "nbconvert_exporter": "python",
   "pygments_lexer": "ipython3",
   "version": "3.6.3"
  }
 },
 "nbformat": 4,
 "nbformat_minor": 2
}
