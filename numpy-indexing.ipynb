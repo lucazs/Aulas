{
 "cells": [
  {
   "cell_type": "markdown",
   "metadata": {},
   "source": [
    "# Broadcast"
   ]
  },
  {
   "cell_type": "markdown",
   "metadata": {},
   "source": [
    "Em numpy, broadcast é uma operação usada para trabalhar com arrays de formas diferentes, desde que estas sejam compatíveis.\n",
    "\n",
    "Suponha que queiramos somar dois arrays, um com o formato `(1, 2)` e o outro com o formato `(2, 1)`.  Como os formatos são distintos, em princípio não poderíamos somá-los.  Com a operação broadcast, entretanto, numpy estende ambos os arrays para o mesmo formato, permitindo então a soma (ou qualquer outra operação).  As regras para se fazer esta extensão serão vistas agora."
   ]
  },
  {
   "cell_type": "code",
   "execution_count": null,
   "metadata": {},
   "outputs": [],
   "source": [
    "%matplotlib inline\n",
    "import numpy as np\n",
    "import matplotlib.pyplot as plt"
   ]
  },
  {
   "cell_type": "code",
   "execution_count": null,
   "metadata": {},
   "outputs": [],
   "source": [
    "# Uma forma bem simples de broadcasting é a multiplicação de um array\n",
    "# por um escalar\n",
    "y = 3*x\n",
    "print(\"y = \", y)\n",
    "\n",
    "# A operação acima tem o mesmo resultado que o seguinte:\n",
    "y = np.array([3, 3])*x\n",
    "print(\"y = \", y)"
   ]
  },
  {
   "cell_type": "code",
   "execution_count": null,
   "metadata": {},
   "outputs": [],
   "source": [
    "x = np.array([[1, 2]])\n",
    "y = np.array([[3], [4]])\n",
    "\n",
    "print(\"Formato de x = \", x.shape)\n",
    "print(\"Formato de y = \", y.shape)\n",
    "print(\"x = \", x)\n",
    "print(\"y = \", y)\n",
    "print(\"x + y =\\n\", x + y)"
   ]
  },
  {
   "cell_type": "markdown",
   "metadata": {},
   "source": [
    "As regras de broadcasting são simples. Numpy compara as tuplas definindo os formatos de cada array começando dos elementos mais à esquerda (equivalente a começar com o índice -1).  Uma dimensão dos arrays (um elemento da tupla do formato) são ditos serem equivalentes se:\n",
    "\n",
    "1. Ambos forem iguais\n",
    "2. Um deles tiver o valor 1.\n",
    "\n",
    "Caso as dimensões sejam equivalentes, as dimensões que forem 1 são aumentadas para o valor da dimensão que **não** é 1, e o (único) elemento na dimensão original é copiado.\n",
    "\n",
    "Observe que o tamanho final dos arrays estendidos é o máximo em cada dimensão."
   ]
  },
  {
   "cell_type": "code",
   "execution_count": null,
   "metadata": {},
   "outputs": [],
   "source": [
    "# arrays com mesmo número de dimensões\n",
    "a = np.arange(3).reshape((1, 1, 3))\n",
    "b = np.arange(4).reshape((1, 4, 1))\n",
    "c = np.arange(5).reshape((5, 1, 1))\n",
    "d = a + b + c\n",
    "print(\"Formato de a = \", a.shape)\n",
    "print(\"Formato de b = \", b.shape)\n",
    "print(\"Formato de c = \", c.shape)\n",
    "print(\"Formato de d = \", d.shape)"
   ]
  },
  {
   "cell_type": "markdown",
   "metadata": {},
   "source": [
    "Se as tuplas dos formatos não tiverem o mesmo comprimento, a menor tupla é estendida *em direção ao índice zero* adicionando dimensões com valor 1."
   ]
  },
  {
   "cell_type": "code",
   "execution_count": null,
   "metadata": {},
   "outputs": [],
   "source": [
    "# arrays com mesmo número de dimensões\n",
    "a = np.arange(3).reshape((3,))\n",
    "b = np.arange(4).reshape((4, 1))\n",
    "c = np.arange(5).reshape((5, 1, 1))\n",
    "d = a + b + c\n",
    "print(\"Formato de a = \", a.shape)\n",
    "print(\"Formato de b = \", b.shape)\n",
    "print(\"Formato de c = \", c.shape)\n",
    "print(\"Formato de d = \", d.shape)"
   ]
  },
  {
   "cell_type": "code",
   "execution_count": 18,
   "metadata": {},
   "outputs": [
    {
     "name": "stdout",
     "output_type": "stream",
     "text": [
      "Formato de a =  (8, 1, 6, 1)\n",
      "Formato de b =  (7, 1, 5)\n",
      "Formato de c =  (8, 7, 6, 5)\n"
     ]
    }
   ],
   "source": [
    "# Um outro exemplo mais complexo\n",
    "a = np.arange(48).reshape((8, 1, 6, 1))\n",
    "b = np.arange(35).reshape((7, 1, 5))\n",
    "c = a + b\n",
    "print(\"Formato de a = \", a.shape)\n",
    "print(\"Formato de b = \", b.shape)\n",
    "print(\"Formato de c = \", c.shape)"
   ]
  },
  {
   "cell_type": "markdown",
   "metadata": {},
   "source": [
    "# Acessando elementos de um array"
   ]
  },
  {
   "cell_type": "code",
   "execution_count": null,
   "metadata": {},
   "outputs": [],
   "source": [
    "# Numpy define um modo de acessar os elementos de um array com N\n",
    "# dimensões indexando-o usando N arrays ou listas, Este tipo de\n",
    "# indexação é chamado de indexação avançada.  A indexação é feita pelo\n",
    "# equivalente de um zip nos arrays, e o resultado é usado para indexar\n",
    "# o array original\n",
    "x = np.arange(20).reshape((4, 5))\n",
    "print(\"Matrix x:\\n\", x)\n",
    "rows, cols = [0, 0, 3, 3], [0, 4, 0, 4]\n",
    "print(\"Vetor com as quinas de x:\\n\", x[rows, cols])\n",
    "print(\"Construção equivalente:\\n\", np.array([x[idx] for idx in zip(rows, cols)]))\n",
    "rows = list(range(4))\n",
    "print(\"Vetor com a diagonal de x:\\n\", x[rows, rows])"
   ]
  },
  {
   "cell_type": "code",
   "execution_count": null,
   "metadata": {},
   "outputs": [],
   "source": [
    "# O resultado da indexação terá o mesmo formato que os arrays usados\n",
    "# como índices.\n",
    "x = np.arange(20).reshape((4, 5))\n",
    "print(\"Matrix x:\\n\", x)\n",
    "rows, cols = [[0, 0], [3, 3]], [[0, 4], [0, 4]]\n",
    "print(\"Vetor com as quinas de x:\\n\", x[rows, cols])"
   ]
  },
  {
   "cell_type": "code",
   "execution_count": null,
   "metadata": {},
   "outputs": [],
   "source": [
    "# Devido à simetria dos arrays rows e cols acima, o mesmo efeito pode\n",
    "# ser obtido deixando Numpy fazer broadcast\n",
    "x = np.arange(20).reshape((4, 5))\n",
    "print(\"Matrix x:\\n\", x)\n",
    "rows, cols = [[0], [3]], [0, 4]\n",
    "print(\"Vetor com as quinas de x:\\n\", x[rows, cols])"
   ]
  },
  {
   "cell_type": "code",
   "execution_count": null,
   "metadata": {},
   "outputs": [],
   "source": [
    "# Uma outra forma de obter o mesmo efeito é usando a função ix_(), que\n",
    "# aceita N arrays 1-D e retorna um array N-D com o mesmo formato do\n",
    "# que fizemos acima\n",
    "x = np.arange(20).reshape((4, 5))\n",
    "print(\"Matrix x:\\n\", x)\n",
    "rows, cols = [0, 3], [0, 4]\n",
    "idx = np.ix_(rows, cols)\n",
    "print(\"Array 2x2 com os índices:\\n\", idx)\n",
    "print(\"Vetor com as quinas de x:\\n\", x[idx])"
   ]
  },
  {
   "cell_type": "code",
   "execution_count": null,
   "metadata": {},
   "outputs": [],
   "source": [
    "# A função np.ix_() fica mais útil a medida que N cresce\n",
    "x = np.arange(27).reshape((3, 3, 3))\n",
    "print(\"Matrix x:\\n\", x)\n",
    "rows, cols, depth = [0, 2], [1], [1, 2]\n",
    "idx = np.ix_(rows, cols, depth)\n",
    "print(\"Array 2x2 com os índices:\\n\", idx)\n",
    "print(\"Vetor com as quinas de x:\\n\", x[idx])"
   ]
  },
  {
   "cell_type": "code",
   "execution_count": null,
   "metadata": {},
   "outputs": [],
   "source": [
    "# Podemos indexar um array usando um array ou lista de booleanos.\n",
    "# Isto retornará um array 1-D com os elementos do array original cujos\n",
    "# índices correspondem a valores True no array de indexação\n",
    "x = np.array([1., -1., -2., 3]).reshape((2, 2))\n",
    "idx = x < 0\n",
    "print(\"Valor de x:\\n\", x)\n",
    "print(\"Array de índices:\\n\", idx)\n",
    "print(x[idx])\n",
    "x[idx] += 20\n",
    "print(\"Novo valor de x:\\n\", x)"
   ]
  },
  {
   "cell_type": "code",
   "execution_count": null,
   "metadata": {},
   "outputs": [],
   "source": [
    "# Se misturarmos arrays de booleanos e outros métodos, devemos tomar\n",
    "# cuidado com a quantidade de índices\n",
    "x = np.random.randn(10, 20000)\n",
    "rowsum = x.sum(-1)\n",
    "print(\"Soma dos elementos de uma linha:\\n\", rowsum)\n",
    "print(\"Linhas de x com soma menor do que o valor esperado:\\n\", x[rowsum < 0, :5])"
   ]
  }
 ],
 "metadata": {
  "kernelspec": {
   "display_name": "Python 3",
   "language": "python",
   "name": "python3"
  },
  "language_info": {
   "codemirror_mode": {
    "name": "ipython",
    "version": 3
   },
   "file_extension": ".py",
   "mimetype": "text/x-python",
   "name": "python",
   "nbconvert_exporter": "python",
   "pygments_lexer": "ipython3",
   "version": "3.6.5"
  }
 },
 "nbformat": 4,
 "nbformat_minor": 1
}
