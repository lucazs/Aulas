{
 "cells": [
  {
   "cell_type": "markdown",
   "metadata": {},
   "source": [
    "# Standard Library"
   ]
  },
  {
   "cell_type": "markdown",
   "metadata": {},
   "source": [
    "Um dos maiores pontos fortes de Python é a sua vasta coleção de módulos padrão, ou seja, incluída na linguagem.  Existem desde módulos para tratamento de texto através de expressões regulares até módulos que implementam um servidor HTTP.  Daremos uma olhada em alguns destes módulos abaixo."
   ]
  },
  {
   "cell_type": "markdown",
   "metadata": {},
   "source": [
    "#  Módulo `re`"
   ]
  },
  {
   "cell_type": "markdown",
   "metadata": {},
   "source": [
    "Este é um módulo de expressões regulares (regex) muito usadas para fazer busca e substituição em textos.  Regex são strings que contém construções que casam com uma ou mais strings, e podem ser bastante poderosas (e confusas).\n",
    "\n",
    "Uma importante observação a respeito deste módulo é o seu forte uso de strings contendo o caractere \"\\\".  Por causa disso, a maioria das strings usadas em programas que utilizam este módulo são do tipo \"raw\" (strings com o prefixo \"r\")."
   ]
  },
  {
   "cell_type": "code",
   "execution_count": null,
   "metadata": {},
   "outputs": [],
   "source": [
    "import re\n",
    "\n",
    "s = \"\"\"Os seres humanos estão no centro das preocupações com o desenvolvimento sustentável. Têm\n",
    "direito a uma vida saudável e produtiva, em harmonia com a natureza.\n",
    "\n",
    "O direito ao desenvolvimento deve ser exercido de modo a permitir que sejam atendidas\n",
    "equitativamente as necessidades de desenvolvimento e de meio ambiente das gerações presentes\n",
    "e futuras.\"\"\"\n",
    "\n",
    "for m in re.finditer(r\"(\\w*es\\w+)\", s):\n",
    "    print(m.group(0))"
   ]
  },
  {
   "cell_type": "markdown",
   "metadata": {},
   "source": [
    "# Módulo `random`"
   ]
  },
  {
   "cell_type": "markdown",
   "metadata": {},
   "source": [
    "O módulo `random` fornece funções que trabalham com números pseudo-aleatórios.  Apesar de útil, não se deve usá-lo para programas em criptografia pois os algoritmos implementados não são apropriados para esta aplicação.\n",
    "\n",
    "Para várias outras aplicações, entretanto, as funções deste módulo são bastante úteis.  A principal função é a `random()` que retorna um número `float` no intervalo [0, 1).  A maioria das outras funções são construídas a partir dela.\n",
    "\n",
    "Vários tipos de distribuições aleatórias são disponibilizadas: gaussiana, uniforme, Poisson, exponencial e muitas outras."
   ]
  },
  {
   "cell_type": "code",
   "execution_count": null,
   "metadata": {},
   "outputs": [],
   "source": [
    "import random\n",
    "\n",
    "# A funçao seed() pode ser usada para garantir a reprodução do\n",
    "# comportamento do programa\n",
    "random.seed(1)\n",
    "lst1 = [random.randrange(10, 41) for _ in range(10)]\n",
    "print(lst1)"
   ]
  },
  {
   "cell_type": "code",
   "execution_count": null,
   "metadata": {},
   "outputs": [],
   "source": [
    "# Outras funções interessantes são a choice(), shuffle() and\n",
    "# sample()\n",
    "import random\n",
    "\n",
    "# choice() retorna um elemento aleatório dentro de uma sequência\n",
    "# É equivalente a seq[randrange(len(seq))]\n",
    "lst = list(range(12, 40, 3))\n",
    "print(random.choice(lst))\n",
    "\n",
    "# shuffle retorna a sequência original permutada aleátoriamente\n",
    "random.shuffle(lst)\n",
    "print(lst)\n",
    "\n",
    "# sample() retorna uma lista de k elementos escolhidos aleatoriamente\n",
    "# sem reposição da lista passada como parâmetro.  A lista original\n",
    "# não é mexida\n",
    "print(random.sample(lst, 5))\n",
    "print(lst)"
   ]
  },
  {
   "cell_type": "markdown",
   "metadata": {},
   "source": [
    "Algumas vezes queremos fazer uma escolha ponderada por pesos.  No final da [documentação](file:///usr/share/doc/python3/html/library/random.html) do módulo `random` você encontra um pequeno programa para implementar essa estratégia."
   ]
  },
  {
   "cell_type": "markdown",
   "metadata": {},
   "source": [
    "# Módulo `collections`"
   ]
  },
  {
   "cell_type": "markdown",
   "metadata": {},
   "source": [
    "Este módulo contém várias classes implementando diferentes containers com diferentes estratégias.  Assim, temos a classe `deque` (dupla fila) que implementa um container parecido com listas exceto que a inserção ou remoção de elementos em ambas as extremidades (índices 0 e -1) ocorrem com igual eficiência."
   ]
  },
  {
   "cell_type": "code",
   "execution_count": null,
   "metadata": {},
   "outputs": [],
   "source": [
    "from collections import deque\n",
    "\n",
    "s = \"Tudo o que um sonho precisa para ser realizado é alguém que acredite que ele possa ser realizado.\"\n",
    "fifo = deque(range(10))\n",
    "fifo.append(-1)\n",
    "fifo.appendleft(10)\n",
    "print(fifo)\n",
    "fifo.rotate(3)\n",
    "print(fifo)\n",
    "fifo.extendleft(range(-5, -1))\n",
    "print(fifo)"
   ]
  },
  {
   "cell_type": "markdown",
   "metadata": {},
   "source": [
    "Outra classe útil é a `Counter`, que implementa um dicionário onde o valor associado a uma chave é quantas vezes a chave apareceu na inicialização ou atualização do objeto do tipo `Counter`."
   ]
  },
  {
   "cell_type": "code",
   "execution_count": null,
   "metadata": {},
   "outputs": [],
   "source": [
    "from collections import Counter\n",
    "\n",
    "s = \"\"\"Consideramos estas verdades como evidentes por si mesmas, que \n",
    "todos os homens são criados iguais, dotados pelo Criador de certos \n",
    "direitos inalienáveis, que entre estes estão a vida, a liberdade e\n",
    "a procura da felicidade. Que a fim de assegurar esses direitos,\n",
    "governos são instituídos entre os homens, derivando seus justos\n",
    "poderes do consentimento dos governados; que, sempre que qualquer\n",
    "forma de governo se torne destrutiva de tais fins, cabe ao povo o\n",
    "direito de alterá-la ou aboli-la e instituir novo governo, baseando-o\n",
    "em tais princípios e organizando-lhe os poderes pela forma que lhe\n",
    "pareça mais conveniente para realizar-lhe a segurança e a felicidade.\n",
    "Na realidade, a prudência recomenda que não se mudem os governos\n",
    "instituídos há muito tempo por motivos leves e passageiros;\n",
    "e, assim sendo, toda experiência tem mostrado que os homens estão\n",
    "mais dispostos a sofrer, enquanto os males são suportáveis, do que\n",
    "a se desagravar, abolindo as formas a que se acostumaram. Mas quando\n",
    "uma longa série de abusos e usurpações, perseguindo invariavelmente o\n",
    "mesmo objecto, indica o desígnio de reduzi-los ao despotismo absoluto,\n",
    "assistem-lhes o direito, bem como o dever, de abolir tais governos e\n",
    "instituir novos Guardiães para sua futura segurança. Tal tem sido o\n",
    "sofrimento paciente destas colónias e tal agora a necessidade que as\n",
    "força a alterar os sistemas anteriores de governo. A história do\n",
    "atual Rei da Grã-Bretanha compõe-se de repetidas injúrias e usurpações,\n",
    "tendo todos por objectivo direto o estabelecimento da tirania absoluta\n",
    "sobre estes Estados. Para prová-lo, permitam-nos submeter os fatos a\n",
    "um mundo cândido.\"\"\".lower().translate(\"\".maketrans(\"\", \"\", \",;. \"))\n",
    "\n",
    "s2 = \"\"\"Nenhuma noite, por mais escura que seja. pode impedir o\n",
    "amanhecer.\"\"\".lower().translate(\"\".maketrans(\"\", \"\", \",;. \"))\n",
    "\n",
    "c = Counter(s)\n",
    "print(c.most_common(10))\n",
    "c.update(Counter(s2))\n",
    "print(c.most_common(10))"
   ]
  },
  {
   "cell_type": "markdown",
   "metadata": {},
   "source": [
    "A classe `OrderedDict` guarda a ordem em que as chaves de um dicionário foram inseridas (mas não a ordem em que foram atualizadas).  Isto é algumas vezes útil na vida real."
   ]
  },
  {
   "cell_type": "code",
   "execution_count": null,
   "metadata": {},
   "outputs": [],
   "source": [
    "from collections import OrderedDict\n",
    "\n",
    "d = OrderedDict([(\"a\", 0), (\"c\", 2), (\"b\", 1)])\n",
    "print(\" \".join(d.keys()))\n",
    "d.move_to_end(\"a\")\n",
    "print(\" \".join(d.keys()))\n",
    "c = d.popitem()\n",
    "print(\"Item obtido foi:\", c)\n",
    "print(\"Dicionário:\", \" \".join(d.keys()))"
   ]
  },
  {
   "cell_type": "markdown",
   "metadata": {},
   "source": [
    "Por último, a classe `defaultdict` pode ser útil para simplificar a lógica de nosso programa nos casos em que, se uma chave não está presente, podemos partir de um valor-padrão."
   ]
  },
  {
   "cell_type": "code",
   "execution_count": null,
   "metadata": {},
   "outputs": [],
   "source": [
    "from collections import defaultdict\n",
    "\n",
    "s = \"\"\"Consideramos estas verdades como evidentes por si mesmas, que \n",
    "todos os homens são criados iguais, dotados pelo Criador de certos \n",
    "direitos inalienáveis, que entre estes estão a vida, a liberdade e\n",
    "a procura da felicidade. Que a fim de assegurar esses direitos,\n",
    "governos são instituídos entre os homens, derivando seus justos\n",
    "poderes do consentimento dos governados; que, sempre que qualquer\n",
    "forma de governo se torne destrutiva de tais fins, cabe ao povo o\n",
    "direito de alterá-la ou aboli-la e instituir novo governo, baseando-o\n",
    "em tais princípios e organizando-lhe os poderes pela forma que lhe\n",
    "pareça mais conveniente para realizar-lhe a segurança e a felicidade.\n",
    "Na realidade, a prudência recomenda que não se mudem os governos\n",
    "instituídos há muito tempo por motivos leves e passageiros;\n",
    "e, assim sendo, toda experiência tem mostrado que os homens estão\n",
    "mais dispostos a sofrer, enquanto os males são suportáveis, do que\n",
    "a se desagravar, abolindo as formas a que se acostumaram. Mas quando\n",
    "uma longa série de abusos e usurpações, perseguindo invariavelmente o\n",
    "mesmo objecto, indica o desígnio de reduzi-los ao despotismo absoluto,\n",
    "assistem-lhes o direito, bem como o dever, de abolir tais governos e\n",
    "instituir novos Guardiães para sua futura segurança. Tal tem sido o\n",
    "sofrimento paciente destas colónias e tal agora a necessidade que as\n",
    "força a alterar os sistemas anteriores de governo. A história do\n",
    "atual Rei da Grã-Bretanha compõe-se de repetidas injúrias e usurpações,\n",
    "tendo todos por objectivo direto o estabelecimento da tirania absoluta\n",
    "sobre estes Estados. Para prová-lo, permitam-nos submeter os fatos a\n",
    "um mundo cândido.\"\"\".lower().translate(\"\".maketrans(\"\", \"\", \",;.\"))\n",
    "\n",
    "d = defaultdict(set)\n",
    "for word in s.split():\n",
    "    d[word[0]].update([word])\n",
    "print(\"\\n\".join(\"{}: {}\".format(letter, sorted(list(words))) for letter, words in sorted(d.items())))"
   ]
  },
  {
   "cell_type": "markdown",
   "metadata": {},
   "source": [
    "# Módulo `pathlib`"
   ]
  },
  {
   "cell_type": "markdown",
   "metadata": {},
   "source": [
    "Este módulo oferece classes que encapsulam o conceito de *paths*, ou os caminhos de diretório e arquivos dentro de um sistema de arquivos.  Se o caminho apontar para um arquivo, podemos obter suas informações, tais como data de criação e permissão de uso, ou abri-lo para depois lê-lo ou nele escrever.\n",
    "\n",
    "Se o caminho apontar para um diretório, além de obter informações sobre o diretório, podemos obter a lista de arquivos contidos no diretório."
   ]
  },
  {
   "cell_type": "code",
   "execution_count": null,
   "metadata": {},
   "outputs": [],
   "source": [
    "# Lendo um arquivo\n",
    "from pathlib import Path\n",
    "import json\n",
    "\n",
    "with Path(\"./standard_library.ipynb\").open(\"rt\") as f:\n",
    "    notebook = json.load(f)\n",
    "programs = [d[\"source\"] for d in notebook[\"cells\"] if d[\"cell_type\"] == \"code\"]\n",
    "\n",
    "print(\"\\n\\n=====\\n\\n\".join(\"\".join(lines) for lines in programs[:3]))"
   ]
  },
  {
   "cell_type": "code",
   "execution_count": null,
   "metadata": {},
   "outputs": [],
   "source": [
    "# Verificando que um arquivo existe e obtendo suas informações\n",
    "from pathlib import Path\n",
    "\n",
    "p = Path(\"./standard_library.ipynb\")\n",
    "if p.exists():\n",
    "    print(p.stat())"
   ]
  },
  {
   "cell_type": "code",
   "execution_count": null,
   "metadata": {},
   "outputs": [],
   "source": [
    "# Listando os arquivos de um diretório\n",
    "import pathlib\n",
    "\n",
    "# Esta não é a melhor maneira de se filtrar nomoes de arquivos\n",
    "p = pathlib.Path(\"/usr/share/doc\")\n",
    "if p.is_dir():\n",
    "    print(\"\\n\".join(str(f) for f in p.iterdir() if \"python3\" in f.name and \"doc\" in f.name))"
   ]
  },
  {
   "cell_type": "markdown",
   "metadata": {},
   "source": [
    "### Exercício"
   ]
  },
  {
   "cell_type": "markdown",
   "metadata": {},
   "source": [
    "Crie e imprima uma lista com os nomes dos arquivos do diretório atual que tem tamanho menor do 1024 bytes."
   ]
  },
  {
   "cell_type": "markdown",
   "metadata": {},
   "source": [
    "## Partes de um caminho"
   ]
  },
  {
   "cell_type": "markdown",
   "metadata": {},
   "source": [
    "Um caminho pode ser dividido em uma ou mais partes, todas opcionais (embora pelo menos uma deve estar presente): a raiz, os ancestrais (ou pais), e a parte final.  A primeira parte pode ser obtida pelo atributo `root`, a segunda através do atributo `parents` e a terceira através do atributo `name`.  Todas as partes podem ser obtidas em uma tupla através do atributo `parts`."
   ]
  },
  {
   "cell_type": "code",
   "execution_count": null,
   "metadata": {},
   "outputs": [],
   "source": [
    "# Trabalhando com as partes de um caminho\n",
    "import pathlib\n",
    "\n",
    "p = pathlib.Path.cwd()\n",
    "print(\"Diretório atual: \", p)\n",
    "a = Path(p, \"standard_library.ipynb\")\n",
    "print(\"Partes do caminho: \", a.parts)"
   ]
  },
  {
   "cell_type": "code",
   "execution_count": null,
   "metadata": {},
   "outputs": [],
   "source": [
    "# Obtendo os pais de um caminho\n",
    "from itertools import chain\n",
    "\n",
    "prefixo = \"\\n    \"\n",
    "header = \"Lista dos pais do caminho:\"\n",
    "print(prefixo.join(str(parent) for parent in chain([header], a.parents)))\n",
    "\n",
    "# Você pode obter o pai imediato com o atributo parent\n",
    "print(\"Pai imediato do caminho:\", str(a.parent))"
   ]
  },
  {
   "cell_type": "markdown",
   "metadata": {},
   "source": [
    "### Outras funcionalidades"
   ]
  },
  {
   "cell_type": "code",
   "execution_count": null,
   "metadata": {},
   "outputs": [],
   "source": [
    "# Podemos trabalhar com grupos de arquivos com nomes similares\n",
    "# usando o método glob() com notação de wildchars\n",
    "import pathlib\n",
    "\n",
    "p = Path(\"/usr/share/doc\")\n",
    "print(\"\\n\".join(str(f) for f in p.glob(\"python*doc\")))"
   ]
  },
  {
   "cell_type": "code",
   "execution_count": null,
   "metadata": {},
   "outputs": [],
   "source": [
    "# O método glob() pode usar um wildchar recursivo\n",
    "import pathlib\n",
    "\n",
    "p = Path(\"/home/aluno\")\n",
    "print(\"\\n\".join(str(f) for f in p.glob(\"**/*.py\")))"
   ]
  }
 ],
 "metadata": {
  "kernelspec": {
   "display_name": "Python 3",
   "language": "python",
   "name": "python3"
  },
  "language_info": {
   "codemirror_mode": {
    "name": "ipython",
    "version": 3
   },
   "file_extension": ".py",
   "mimetype": "text/x-python",
   "name": "python",
   "nbconvert_exporter": "python",
   "pygments_lexer": "ipython3",
   "version": "3.6.5"
  }
 },
 "nbformat": 4,
 "nbformat_minor": 1
}
