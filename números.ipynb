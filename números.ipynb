{
 "cells": [
  {
   "cell_type": "markdown",
   "metadata": {
    "deletable": true,
    "editable": true
   },
   "source": [
    "Inteiros\n",
    "====="
   ]
  },
  {
   "cell_type": "code",
   "execution_count": null,
   "metadata": {
    "collapsed": false,
    "deletable": true,
    "editable": true,
    "scrolled": false,
    "slideshow": {
     "slide_type": "slide"
    }
   },
   "outputs": [],
   "source": [
    "# Operações usuais com inteiros.  Observe a declaração das variáveis\n",
    "# sem necessidade de definir o seu tipo (int, float, etc).\n",
    "a = 123\n",
    "b = 321\n",
    "print(\"a + b = \", a + b, \"\\ta - b = \", a - b, \"\\ta * b = \", a * b, \"\\ta / b = \", a / b)"
   ]
  },
  {
   "cell_type": "code",
   "execution_count": null,
   "metadata": {
    "collapsed": false,
    "deletable": true,
    "editable": true,
    "scrolled": false,
    "slideshow": {
     "slide_type": "slide"
    }
   },
   "outputs": [],
   "source": [
    "# Operação de exponenciação\n",
    "print(\"b ** 20 = \", b**20)"
   ]
  },
  {
   "cell_type": "code",
   "execution_count": null,
   "metadata": {
    "collapsed": false,
    "deletable": true,
    "editable": true,
    "scrolled": false,
    "slideshow": {
     "slide_type": "slide"
    }
   },
   "outputs": [],
   "source": [
    "# Dois tipos de divisão, a regular e a inteira.  Em Python 2.7 e em C, assim\n",
    "# como em outras linguagens, se a e b são inteiros, a divisão a / b também o é.\n",
    "# Não em Python 3.5, onde o operador // (divisão inteira)  é que tem esse\n",
    "# comportamento\n",
    "print(\"b / a = \", b / a, \"\\tb // a = \", b // a)"
   ]
  },
  {
   "cell_type": "code",
   "execution_count": null,
   "metadata": {
    "collapsed": false,
    "deletable": true,
    "editable": true,
    "scrolled": false,
    "slideshow": {
     "slide_type": "slide"
    }
   },
   "outputs": [],
   "source": [
    "# Divisão inteira, quociente e resto\n",
    "q = b // a\n",
    "r = b % a\n",
    "print(\"b // a = \", q, \"\\tb % a = \", r, \"\\tq*a + r == b = \", q*a + r == b)"
   ]
  },
  {
   "cell_type": "code",
   "execution_count": null,
   "metadata": {
    "collapsed": false,
    "deletable": true,
    "editable": true,
    "scrolled": false,
    "slideshow": {
     "slide_type": "slide"
    }
   },
   "outputs": [],
   "source": [
    "# A operação de módulo também funciona para reais\n",
    "print(\"12.5 % 5 = \", 12.5 % 5, \"\\t3.141592653 % 1 = \", 3.141592653 % 1)"
   ]
  },
  {
   "cell_type": "code",
   "execution_count": null,
   "metadata": {
    "collapsed": false,
    "deletable": true,
    "editable": true,
    "scrolled": false,
    "slideshow": {
     "slide_type": "slide"
    }
   },
   "outputs": [],
   "source": [
    "# Devido à diferença entre python 2.7 e 3.5 com relação a /, deve-se tomar cuidado.\n",
    "# Assim, mesmo que em Python 3.5 a divisão / retorne um float, e portanto os cuidados\n",
    "# abaixo não sejam necessários, os usamos de toda forma para evitar problemas com\n",
    "# Python 2.7.\n",
    "print(1.0 / 2, float(a)/b)"
   ]
  },
  {
   "cell_type": "code",
   "execution_count": null,
   "metadata": {
    "collapsed": false,
    "deletable": true,
    "editable": true,
    "scrolled": false,
    "slideshow": {
     "slide_type": "slide"
    }
   },
   "outputs": [],
   "source": [
    "# Em Python, os inteiros tem precisão ilimitada\n",
    "import math\n",
    "b = 500\n",
    "print(\"b! = \", math.factorial(b))"
   ]
  },
  {
   "cell_type": "code",
   "execution_count": null,
   "metadata": {
    "collapsed": false
   },
   "outputs": [],
   "source": [
    "# Os números float, entretanto, tem a precisão de um long do C.\n",
    "print(\"1 / 11 = \", 1 / 11)"
   ]
  },
  {
   "cell_type": "code",
   "execution_count": null,
   "metadata": {
    "collapsed": false,
    "deletable": true,
    "editable": true
   },
   "outputs": [],
   "source": [
    "# Podemos arredondar um número float para um inteiro de 4 formas distintas\n",
    "# math.trunc trunca em direção a zero\n",
    "# math.floor trunca em direção a -infinito\n",
    "# math.ceil trunca em direção a +infinito\n",
    "# round arredonda para o inteiro mais próximo; se na metade, arrendonda para o número par mais próximo\n",
    "import math\n",
    "a = 4.3\n",
    "b = -4.3\n",
    "c = 2.5\n",
    "d = -3.5\n",
    "print(\"round(a) = \", round(a), \"\\tfloor(a) = \", math.floor(a), \"\\tceil(a) = \", math.ceil(a),\n",
    "      \"\\ttrunc(a) = \", math.trunc(a))\n",
    "print(\"round(b) = \", round(b), \"\\tfloor(b) = \", math.floor(b), \"\\tceil(b) = \", math.ceil(b),\n",
    "      \"\\ttrunc(b) = \", math.trunc(b))\n",
    "print(\"round(c) = \", round(c), \"\\tfloor(c) = \", math.floor(c), \"\\tceil(c) = \", math.ceil(c),\n",
    "      \"\\ttrunc(c) = \", math.trunc(c))\n",
    "print(\"round(d) = \", round(d), \"\\tfloor(d) = \", math.floor(d), \"\\tceil(d) = \", math.ceil(d),\n",
    "      \"\\ttrunc(d) = \", math.trunc(d))"
   ]
  },
  {
   "cell_type": "code",
   "execution_count": null,
   "metadata": {
    "collapsed": false,
    "deletable": true,
    "editable": true
   },
   "outputs": [],
   "source": [
    "# Python também tem as operações de bit.  Observe o uso do método format()\n",
    "# da classe string.\n",
    "a = 0x5A6C\n",
    "print(\"a | 0x3333 = 0x{:X}\\ta & 0x3333 = 0x{:X}\\ta ^ 0x3333 = 0x{:X}\".format(a | 0x3333, a & 0x3333, a ^ 0x3333))\n",
    "print(\"a << 3 = 0x{:X}\\ta >> 3 = 0x{:X}\".format(a << 3, a >> 3))"
   ]
  },
  {
   "cell_type": "code",
   "execution_count": null,
   "metadata": {
    "collapsed": false
   },
   "outputs": [],
   "source": [
    "# A ordem de precedência dos operadores numéricos que Python usa para\n",
    "# calcular o valor de expressões numéricas é o mesmo que estamos acostumados:\n",
    "# Parênteses, Exponenciação, Multiplicação / Produto / Módulo, Adição / Subtração\n",
    "print(\"3 + 4 * 5 ** 2-1 = \", 3 + 4 * 5 ** 2-1)"
   ]
  },
  {
   "cell_type": "markdown",
   "metadata": {
    "deletable": true,
    "editable": true
   },
   "source": [
    "**Exercícios**"
   ]
  },
  {
   "cell_type": "markdown",
   "metadata": {
    "deletable": true,
    "editable": true
   },
   "source": [
    "- Determine quanto é a diferença, módulo 99, de fatorial de 11 e fatorial de 10.\n",
    "- Calcule na mão quanto vale 2\\*\\*10 - 10 \\* 2 e depois confira o valor fazendo Python calcular para você.\n",
    "- Calcule na mão o valor das seguintes expressões e depois confira com Python:\n",
    "  - \\- 3 \\* - - + 2\n",
    "  - 2 \\*\\* 10 - 2\n",
    "  - \\- 2 \\*\\* - 10 + 2\n",
    "  - 5 - 2 % 2"
   ]
  },
  {
   "cell_type": "markdown",
   "metadata": {
    "deletable": true,
    "editable": true
   },
   "source": [
    "Booleanos\n",
    "========="
   ]
  },
  {
   "cell_type": "code",
   "execution_count": null,
   "metadata": {
    "collapsed": false,
    "deletable": true,
    "editable": true,
    "slideshow": {
     "slide_type": "slide"
    }
   },
   "outputs": [],
   "source": [
    "# Tipos booleanos definidos por Python\n",
    "print(True, False)"
   ]
  },
  {
   "cell_type": "code",
   "execution_count": null,
   "metadata": {
    "collapsed": false,
    "deletable": true,
    "editable": true,
    "slideshow": {
     "slide_type": "slide"
    }
   },
   "outputs": [],
   "source": [
    "# Operações lógicas retornam tipos booleanos\n",
    "print(\"2 ** 3 < 3 ** 2 = \", 2 ** 3 < 3 ** 2, \"\\t2 * 2 == 5 = \", 2 * 2 == 5)"
   ]
  },
  {
   "cell_type": "code",
   "execution_count": null,
   "metadata": {
    "collapsed": false,
    "deletable": true,
    "editable": true,
    "slideshow": {
     "slide_type": "slide"
    }
   },
   "outputs": [],
   "source": [
    "# Os operadores lógicos and e or são do tipo curto-circuito e retornam o\n",
    "# último valor avaliado. Observe que os argumentos desses operadores não\n",
    "# necessariamente são apenas True ou False. Um valor numérico igual a 0 é\n",
    "# considerado um valor booleano False, enquanto um valor numérico não-nulo\n",
    "# tem o valor de True.  Strings e outros containers tem o valor False se\n",
    "# forem vazias, e True se tiverem pelo menos um elemento.\n",
    "print(True and True and False and True)\n",
    "print(0  or 0 or 10 or 5 or 0 or 3)\n",
    "print(1 and 2 and 3)\n",
    "print(1 and 0 or 2)"
   ]
  },
  {
   "cell_type": "code",
   "execution_count": null,
   "metadata": {
    "collapsed": false
   },
   "outputs": [],
   "source": [
    "# O valor None é um valor especial definido por Python para significar a\n",
    "# ausência de qualquer outro tipo ou valor.  É mais ou menos equivalente do\n",
    "# tipo void do C, exceto que é um valor concreto também. None é considerado\n",
    "# um valor equivalent ao False para operações booleanas.\n",
    "print(None and True)"
   ]
  },
  {
   "cell_type": "markdown",
   "metadata": {
    "deletable": true,
    "editable": true
   },
   "source": [
    "Números Complexos\n",
    "====="
   ]
  },
  {
   "cell_type": "code",
   "execution_count": null,
   "metadata": {
    "collapsed": false,
    "deletable": true,
    "editable": true,
    "scrolled": false,
    "slideshow": {
     "slide_type": "slide"
    }
   },
   "outputs": [],
   "source": [
    "# Python entende números complexos também.  A sintaxe é do tipo a + bj, onde\n",
    "# a e b são números inteiros ou reais e j é o indicador da parte imaginária.\n",
    "# Observe que o j deve vir depois do número; caso contrário, Python interpretará\n",
    "# como uma variável. Um número complexo em Python é de um tipo que tem os atributos\n",
    "# real e imag e o método conjugate().  Observe que a função abs() não é um\n",
    "# método do número complexo uma vez que se aplica também a inteiros e floats\n",
    "z = 3 + 4j\n",
    "print(z.real, z.imag, abs(z), z.conjugate())\n",
    "z = 2 + 1j\n",
    "print(z.real, z.imag, abs(z), z.conjugate())"
   ]
  },
  {
   "cell_type": "code",
   "execution_count": null,
   "metadata": {
    "collapsed": false,
    "deletable": true,
    "editable": true,
    "scrolled": false,
    "slideshow": {
     "slide_type": "slide"
    }
   },
   "outputs": [],
   "source": [
    "# Operações numéricas\n",
    "w = 4 - 3j\n",
    "print(\"z + w = \", z+w, \"\\tz * w = \", z*w, \"\\tz / w = \", z/w)"
   ]
  },
  {
   "cell_type": "code",
   "execution_count": null,
   "metadata": {
    "collapsed": false,
    "deletable": true,
    "editable": true,
    "scrolled": false,
    "slideshow": {
     "slide_type": "slide"
    }
   },
   "outputs": [],
   "source": [
    "# Fase e forma polar (forma polar não está no formato de número complexo)\n",
    "import math, cmath\n",
    "print(\"abs(z) = \", abs(z))\n",
    "print(\"phase(z) = \", cmath.phase(z))\n",
    "print(\"polar format = \", cmath.polar(z))"
   ]
  },
  {
   "cell_type": "code",
   "execution_count": null,
   "metadata": {
    "collapsed": false,
    "deletable": true,
    "editable": true,
    "scrolled": false,
    "slideshow": {
     "slide_type": "slide"
    }
   },
   "outputs": [],
   "source": [
    "# Conversão polar -> retangular\n",
    "print(cmath.rect(2, cmath.pi/2))"
   ]
  },
  {
   "cell_type": "code",
   "execution_count": null,
   "metadata": {
    "collapsed": false,
    "deletable": true,
    "editable": true,
    "scrolled": false,
    "slideshow": {
     "slide_type": "slide"
    }
   },
   "outputs": [],
   "source": [
    "# Raiz quadrada de -1 nos complexos e nos reais\n",
    "print(cmath.sqrt(-1))\n",
    "try:\n",
    "    print(math.sqrt(-1))\n",
    "except:\n",
    "    print(\"-1 não tem raiz quadrada real\")"
   ]
  },
  {
   "cell_type": "code",
   "execution_count": null,
   "metadata": {
    "collapsed": false,
    "deletable": true,
    "editable": true,
    "scrolled": false,
    "slideshow": {
     "slide_type": "slide"
    }
   },
   "outputs": [],
   "source": [
    "# Exponencial.  Observe que o módulo cmath define a constante pi (entre outras)\n",
    "print(cmath.exp(1j*cmath.pi/4))"
   ]
  },
  {
   "cell_type": "markdown",
   "metadata": {
    "deletable": true,
    "editable": true
   },
   "source": [
    "**Exercícios**"
   ]
  },
  {
   "cell_type": "markdown",
   "metadata": {
    "deletable": true,
    "editable": true
   },
   "source": [
    "Assumindo que $w = 1/2 + 2j/3$ e $z = -5/6+j/5$, calcule $e^{(w^2 + 2w + 2)(z^2 - 2z - 2)}$"
   ]
  },
  {
   "cell_type": "markdown",
   "metadata": {
    "deletable": true,
    "editable": true
   },
   "source": [
    "Considere um circuito RLC em série onde $R=50\\ \\Omega$, $L=12,5\\ \\mu$H e $C=10$ nF.  O circuito é alimentado por uma senóide de amplitude $4$ V, frequência de $10$ MHz e fase de $-75^\\circ$.  Determine o fasor da voltagem em resistor."
   ]
  }
 ],
 "metadata": {
  "kernelspec": {
   "display_name": "Python 3",
   "language": "python",
   "name": "python3"
  },
  "language_info": {
   "codemirror_mode": {
    "name": "ipython",
    "version": 3
   },
   "file_extension": ".py",
   "mimetype": "text/x-python",
   "name": "python",
   "nbconvert_exporter": "python",
   "pygments_lexer": "ipython3",
   "version": "3.5.3"
  }
 },
 "nbformat": 4,
 "nbformat_minor": 2
}
