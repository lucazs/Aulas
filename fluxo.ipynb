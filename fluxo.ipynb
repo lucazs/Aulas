{
 "cells": [
  {
   "cell_type": "markdown",
   "metadata": {
    "deletable": true,
    "editable": true
   },
   "source": [
    "# Estruturas de fluxo"
   ]
  },
  {
   "cell_type": "markdown",
   "metadata": {
    "deletable": true,
    "editable": true
   },
   "source": [
    "Iremos ver agora alguns elementos de controle de fluxo parecidos com os que outras linguagens tem, com algumas diferenças, entretanto.  São eles:\n",
    "- `while`\n",
    "- `if`\n",
    "- `for`\n",
    "\n",
    "Observe que Python não tem a instrução `do .. while`.\n",
    "\n",
    "Cada um dos elementos acima operam sobre blocos de instruções.  Em C, um bloco é definido por chaves: `{` e `}`.  Em Python, os blocos são definidos por ***indentação***, ou seja, a quantidade de espaços antes da instrução de cada linha.  Esta quantidade de espaços deve ser a mesma para cada linha do bloco, e deve ser sempre do mesmo tipo, i.e., não pode usar um espaço e um tab em uma linha e dois espaços em outra.  Como o caractere tab se confunde muito com espaço, é recomendado não usar tab para indentar.\n",
    "\n",
    "Note que alguns editores, como emacs e ipython, usam a tecla de tab não para inserir um caractere tab, mas sim uma quantidade de espaços apropriado (em geral 2 ou 4 espaços)."
   ]
  },
  {
   "cell_type": "code",
   "execution_count": null,
   "metadata": {
    "collapsed": false,
    "deletable": true,
    "editable": true
   },
   "outputs": [],
   "source": [
    "# O comando while repete um bloco de instruções até que um teste, executado a cada\n",
    "# repetição, tenha o valor False (ou equivalente).  Neste sentido, é igual à\n",
    "# instrução similar em C.\n",
    "ctr = 0\n",
    "while ctr < 10:\n",
    "    print(ctr, end=\" \")\n",
    "    ctr += 1\n",
    "print(\"Terminei\")"
   ]
  },
  {
   "cell_type": "code",
   "execution_count": null,
   "metadata": {
    "collapsed": false,
    "deletable": true,
    "editable": true
   },
   "outputs": [],
   "source": [
    "# O comando if roda um comando de teste.  Caso o resultado seja True, ele executa\n",
    "# o bloco que o segue.  Caso seja False e uma instrução else vier logo a seguir,\n",
    "# o comando if executa o block depois do else.  Observe que não instrução endif\n",
    "# ou nenhuma outra forma de terminar um bloco a nao ser pela indentação\n",
    "s = \"\"\n",
    "if s:\n",
    "    print(\"A string é \\\"{}\\\"\".format(s))\n",
    "    s = s.lower()\n",
    "else:\n",
    "    print(\"A string é a string vazia.\")\n",
    "    s = \"***Vazia***\"\n",
    "print(s)"
   ]
  },
  {
   "cell_type": "code",
   "execution_count": null,
   "metadata": {
    "collapsed": false,
    "deletable": true,
    "editable": true
   },
   "outputs": [],
   "source": [
    "# O comando if ... else if ... pode ser simplificado para if .. elif ..   Observe\n",
    "# que Python não tem o comando switch () { case: ; } do C.  Isto deve ser\n",
    "# implementado com if .. elif ..\n",
    "escolha = 3\n",
    "if escolha == 0:\n",
    "    print(\"Você escolheu o primeiro item\")\n",
    "elif escolha == 1:\n",
    "    print(\"Você escolheu o segundo item\")\n",
    "elif escolha == 2:\n",
    "    print(\"Você escolheu o terceiro item\")\n",
    "else:\n",
    "    print(\"Você não escolheu nada com sentido\")"
   ]
  },
  {
   "cell_type": "code",
   "execution_count": null,
   "metadata": {
    "collapsed": false,
    "deletable": true,
    "editable": true
   },
   "outputs": [],
   "source": [
    "# Existe uma forma concisa do if que é equivalente à construção\n",
    "# test ? 1 : 0;  do C\n",
    "s = \"\"\n",
    "choice = s if s else \"*** Vazia ***\"\n",
    "print(choice)"
   ]
  },
  {
   "cell_type": "code",
   "execution_count": null,
   "metadata": {
    "collapsed": false,
    "deletable": true,
    "editable": true
   },
   "outputs": [],
   "source": [
    "# Um loop infinito pode ser obtido usando while 1:.  Podemos usar o comando break\n",
    "# para sair do loop\n",
    "ctr = 1\n",
    "while 1:\n",
    "    if ctr == 10:\n",
    "        break\n",
    "    print(ctr, end=\" \")\n",
    "    ctr += 1"
   ]
  },
  {
   "cell_type": "code",
   "execution_count": null,
   "metadata": {
    "collapsed": false,
    "deletable": true,
    "editable": true
   },
   "outputs": [],
   "source": [
    "# Além do comando break, existe o comando continue que pode ser usado em loops.\n",
    "# Este comando tem a mesma função do comando continue em C, i.e., serve para\n",
    "# retornar ao início do loop sem executar mais nenhum outro comando abaixo\n",
    "# dele.  Assim como o break, ele é geralmente usado dentro de uma instrução if\n",
    "ctr = 1\n",
    "while ctr < 10:\n",
    "    if ctr % 2 == 1:\n",
    "        ctr += 1\n",
    "        continue    # pula os números ímpares\n",
    "    print(ctr, end=\" \")\n",
    "    ctr += 1"
   ]
  },
  {
   "cell_type": "code",
   "execution_count": null,
   "metadata": {
    "collapsed": false,
    "deletable": true,
    "editable": true
   },
   "outputs": [],
   "source": [
    "# Um outro comando de loop é o for.  Este comando itera sobre todos os elementos\n",
    "# de uma sequência\n",
    "for n in [1, 2, 3, 4, 5, 6, 7, 8]:\n",
    "    print(n, end=\" \")\n",
    "print()\n",
    "for s in [\"Universidade\", \"Federal\", \"de\", \"Pernambuco\"]:\n",
    "    print(s, end=\" \")\n",
    "print()\n",
    "for n in range(20):\n",
    "    print(n, end=\" \")\n",
    "print()\n",
    "for c in \"Universidade\":\n",
    "    print(c, end=\" / \")"
   ]
  },
  {
   "cell_type": "code",
   "execution_count": null,
   "metadata": {
    "collapsed": false,
    "deletable": true,
    "editable": true
   },
   "outputs": [],
   "source": [
    "# Observe que o comando for associa (bind, em inglês) uma variável a cada elemento\n",
    "# da sequência.  Esta associação é idêntica a um assignment, e devemos tomar os mesmos\n",
    "# cuidados quando lidarmos com tipos de dados mais complexos pois a associação é\n",
    "# feita através de uma referência\n",
    "lst1 = [1, 2, 3, 4, 5, 6, 7, 8, 9]\n",
    "lst2 = [[1], [1, 2], [1, 2, 3], [1, 2, 3, 4]]\n",
    "print(\"Antes:  \", lst1)\n",
    "print(\"Antes:  \", lst2)\n",
    "for n in lst1:\n",
    "    print(n, end=\" \")\n",
    "    n += 1\n",
    "    print(n, end=\" \")\n",
    "print()\n",
    "for lst in lst2:\n",
    "    print(lst, end=\" \")\n",
    "    lst.append(0)\n",
    "    print(lst, end=\" \")\n",
    "print()\n",
    "print(\"Depois: \", lst1)\n",
    "print(\"Depois: \", lst2)"
   ]
  },
  {
   "cell_type": "markdown",
   "metadata": {
    "deletable": true,
    "editable": true
   },
   "source": [
    "### Exercícios"
   ]
  },
  {
   "cell_type": "code",
   "execution_count": null,
   "metadata": {
    "collapsed": false,
    "deletable": true,
    "editable": true
   },
   "outputs": [],
   "source": [
    "# A sequência de números Fibonacci é uma sequência definida recursivamente:\n",
    "# F(n+2) = F(n+1) + F(n), para n >= 0, comas condições iniciais F(0) = 0 e\n",
    "# F(1) = 1.  Construa uma lista com os números Fibonacci até n == 50.  Imprima\n",
    "# esta lista um número por linha na forma \"F(n) = m\", por exemplo, \"F(7) = 13\"\n",
    "fib = [0, 1]\n",
    "#\n",
    "# Seu código aqui\n",
    "#\n",
    "for i, m in enumerate(fib):\n",
    "    print(\"F({}) = {}\".format(i, m))"
   ]
  },
  {
   "cell_type": "code",
   "execution_count": null,
   "metadata": {
    "collapsed": false,
    "deletable": true,
    "editable": true
   },
   "outputs": [],
   "source": [
    "# Numere cada linha da string s abaixo começando de 1 e garantindo que os números tenham\n",
    "# pelo menos 3 espaços para eles e separados por um espaço do texto.  Por exemplo, se s\n",
    "# é \"Primeira linha\\nSegunda linha\", você deve gerar uma nova string com o conteúdo\n",
    "# \"  1 Primeira linha\\n  2 Segunda linha\"\n",
    "s = \"\"\"Se essa rua\n",
    "Se essa rua fosse minha\n",
    "Eu mandava\n",
    "Eu mandava ladrilhar\n",
    "Com pedrinhas\n",
    "Com pedrinhas de brilhante\n",
    "Para o meu\n",
    "Para o meu amor passar\n",
    "Nessa rua\n",
    "Nessa rua tem um bosque\n",
    "Que se chama\n",
    "Que se chama solidão\"\"\"\n",
    "result = []  # Seu código aqui\n",
    "print(result)"
   ]
  },
  {
   "cell_type": "code",
   "execution_count": null,
   "metadata": {
    "collapsed": false,
    "deletable": true,
    "editable": true
   },
   "outputs": [],
   "source": [
    "# Na string s do problema anterior, crie uma nova lista com apenas as palavras com\n",
    "# mais de 5 letras\n",
    "#\n",
    "# Seu código aqui gerando a lista lst de palavras com 5 letras ou mais\n",
    "#\n",
    "print(lst)"
   ]
  },
  {
   "cell_type": "markdown",
   "metadata": {
    "deletable": true,
    "editable": true
   },
   "source": [
    "# List Compreheension"
   ]
  },
  {
   "cell_type": "code",
   "execution_count": null,
   "metadata": {
    "collapsed": false,
    "deletable": true,
    "editable": true
   },
   "outputs": [],
   "source": [
    "# List comprehensions é uma sintaxe para criar listas que combina a criação de listas\n",
    "# com um loop for\n",
    "quadrados = [n*n for n in range(1, 20)]\n",
    "print(quadrados)\n"
   ]
  },
  {
   "cell_type": "code",
   "execution_count": null,
   "metadata": {
    "collapsed": false,
    "editable": true
   },
   "outputs": [],
   "source": [
    "# List comprehensions podem estar aninhadas de 2 formas\n",
    "produtos = [n*m for n in range(10) for m in range(20)]\n",
    "print(len(produtos))\n",
    "print(produtos)\n",
    "produtos = [[n*m for m in range(20)] for n in range(10)]\n",
    "print(len(produtos))\n",
    "print(len(produtos[0]))\n",
    "print(produtos)"
   ]
  },
  {
   "cell_type": "code",
   "execution_count": null,
   "metadata": {
    "collapsed": false,
    "editable": true
   },
   "outputs": [],
   "source": [
    "# Podemos adicionar um teste à list comprehension para filtrar os valores que\n",
    "# comporão a lista.  Por exemplo, se quisermos calcular o quadrado dos números\n",
    "# ímpares, podemos implementar assim\n",
    "quadrados = [n*n for n in range(1, 20) if n % 2 == 1]\n",
    "print(quadrados)"
   ]
  },
  {
   "cell_type": "markdown",
   "metadata": {
    "deletable": true,
    "editable": true
   },
   "source": [
    "### Exercícios"
   ]
  },
  {
   "cell_type": "code",
   "execution_count": null,
   "metadata": {
    "collapsed": false,
    "deletable": true,
    "editable": true
   },
   "outputs": [],
   "source": [
    "# Repita o último exercício acima usando list comprehensions\n",
    "#\n",
    "# Seu código aqui\n",
    "#\n",
    "print(lst)"
   ]
  },
  {
   "cell_type": "code",
   "execution_count": null,
   "metadata": {
    "collapsed": true
   },
   "outputs": [],
   "source": [
    "# Para a lista abaixo, construa uma lista com o cubo dos valores absolutos dos números\n",
    "numeros = [34.6, -203.4, 44.9, 68.3, -12.2, 44.6, 12.7]\n",
    "#\n",
    "# Seu código aqui\n",
    "#"
   ]
  },
  {
   "cell_type": "code",
   "execution_count": null,
   "metadata": {
    "collapsed": true
   },
   "outputs": [],
   "source": [
    "# Construa uma lista de todos os números entre 1 e 100 que são divisíveis\n",
    "# por 2 mas não por 3\n",
    "#\n",
    "# Seu código aqui\n",
    "#"
   ]
  },
  {
   "cell_type": "code",
   "execution_count": null,
   "metadata": {
    "collapsed": true
   },
   "outputs": [],
   "source": [
    "# Ache todos os números entre 1 e 100 que tenham um 3 nele\n",
    "#\n",
    "# Seu código aqui\n",
    "#"
   ]
  }
 ],
 "metadata": {
  "kernelspec": {
   "display_name": "Python 3",
   "language": "python",
   "name": "python3"
  },
  "language_info": {
   "codemirror_mode": {
    "name": "ipython",
    "version": 3
   },
   "file_extension": ".py",
   "mimetype": "text/x-python",
   "name": "python",
   "nbconvert_exporter": "python",
   "pygments_lexer": "ipython3",
   "version": "3.6.3"
  }
 },
 "nbformat": 4,
 "nbformat_minor": 0
}
