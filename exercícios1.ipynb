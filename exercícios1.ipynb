{
 "cells": [
  {
   "cell_type": "markdown",
   "metadata": {
    "deletable": true,
    "editable": true
   },
   "source": [
    "# Exercícios"
   ]
  },
  {
   "cell_type": "code",
   "execution_count": null,
   "metadata": {
    "collapsed": false,
    "deletable": true,
    "editable": true
   },
   "outputs": [],
   "source": [
    "# De uma lista de palavras crie uma nova lista com\n",
    "# apenas as palavras de comprimento maior do que 3\n",
    "lst = \"\"\"Se essa rua\n",
    "Se essa rua fosse minha\n",
    "Eu mandava\n",
    "Eu mandava ladrilhar\n",
    "Com pedrinhas\n",
    "Com pedrinhas de brilhante\n",
    "Para o meu\n",
    "Para o meu amor passar\n",
    "Nessa rua\n",
    "Nessa rua tem um bosque\n",
    "Que se chama\n",
    "Que se chama solidão\n",
    "\"\"\".split()\n",
    "res = []\n",
    "print(res)"
   ]
  },
  {
   "cell_type": "code",
   "execution_count": null,
   "metadata": {
    "collapsed": false,
    "deletable": true,
    "editable": true
   },
   "outputs": [],
   "source": [
    "# De uma lista de palavras ache a palavra de maior comprimento\n",
    "# Use a função max:\n",
    "# Referência: file:///usr/share/doc/python3/html/library/functions.html#max\n",
    "lst = \"\"\"Se essa rua\n",
    "Se essa rua fosse minha\n",
    "Eu mandava\n",
    "Eu mandava ladrilhar\n",
    "Com pedrinhas\n",
    "Com pedrinhas de brilhante\n",
    "Para o meu\n",
    "Para o meu amor passar\n",
    "Nessa rua\n",
    "Nessa rua tem um bosque\n",
    "Que se chama\n",
    "Que se chama solidão\n",
    "\"\"\".split()\n",
    "res = []\n",
    "print(res)"
   ]
  },
  {
   "cell_type": "code",
   "execution_count": null,
   "metadata": {
    "collapsed": true,
    "deletable": true,
    "editable": true
   },
   "outputs": [],
   "source": [
    "# Calcule a convolução de 2 listas de números.  Use a função sum()\n",
    "# Referência: file:///usr/share/doc/python3/html/library/functions.html#sum\n",
    "import random\n",
    "\n",
    "#lst1 = [random.randrange(20) - 10 for _ in range(10)]\n",
    "#lst2 = [random.randrange(20) - 10 for _ in range(10)]\n",
    "lst1, lst2 = [-1, 2, -1], [1, -1, 2, -3]\n",
    "l1, l2 = len(lst1), len(lst2)\n",
    "res = []\n",
    "print(res)"
   ]
  },
  {
   "cell_type": "code",
   "execution_count": null,
   "metadata": {
    "collapsed": false,
    "deletable": true,
    "editable": true
   },
   "outputs": [],
   "source": [
    "# De uma lista de palavras ache as 2 palavras que menos\n",
    "# diferem entre si ignorando diferença entre maiúsculas\n",
    "# e minúsculas.  Use a função combinations() do módulo itertools.\n",
    "# Referência: file:///usr/share/doc/python3/html/library/itertools.html#itertools.combinations\n",
    "lst = list(set(\"\"\"Soldados! Não vos entregueis a esses brutais... que vos desprezam... que vos escravizam...\n",
    "que arregimentam as vossas vidas... que ditam os vossos atos, as vossas idéias e os vossos\n",
    "sentimentos! Que vos fazem marchar no mesmo passo, que vos submetem a uma alimentação\n",
    "regrada, que vos tratam como um gado humano e que vos utilizam como carne para canhão!\n",
    "Não sois máquina! Homens é que sois! E com o amor da humanidade em vossas almas! Não\n",
    "odieis! Só odeiam os que não se fazem amar... os que não se fazem amar e os inumanos\n",
    "\"\"\".translate(str.maketrans(\"\", \"\", \"!.,\")).lower().split()))\n",
    "\n",
    "from itertools import combinations, zip_longest\n",
    "\n",
    "lst = []"
   ]
  }
 ],
 "metadata": {
  "kernelspec": {
   "display_name": "Python 3",
   "language": "python",
   "name": "python3"
  },
  "language_info": {
   "codemirror_mode": {
    "name": "ipython",
    "version": 3
   },
   "file_extension": ".py",
   "mimetype": "text/x-python",
   "name": "python",
   "nbconvert_exporter": "python",
   "pygments_lexer": "ipython3",
   "version": "3.6.3"
  }
 },
 "nbformat": 4,
 "nbformat_minor": 0
}
