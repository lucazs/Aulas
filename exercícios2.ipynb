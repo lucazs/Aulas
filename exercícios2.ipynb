{
 "cells": [
  {
   "cell_type": "code",
   "execution_count": null,
   "metadata": {
    "collapsed": false,
    "deletable": true,
    "editable": true
   },
   "outputs": [],
   "source": [
    "# Ache a soma de todos os números entre 2000 e 3500 (extremidades incluídas)\n",
    "# que são divisíveis por 7 mas não por 3 ou 5.  Implemente usando \"for\"\n",
    "# normal e usando list comprehension.  Dica: \n",
    "# Resposta: 313785"
   ]
  },
  {
   "cell_type": "code",
   "execution_count": null,
   "metadata": {
    "collapsed": false,
    "deletable": true,
    "editable": true
   },
   "outputs": [],
   "source": [
    "# Dada uma lista de strings, conte o número de strings que tem tamanho\n",
    "# maior do que 1 e onde o primeiro e último caractere da string são\n",
    "# iguais.  Exemplos: \"12341\", \"ahga\", \" Ok \".  Contraexemplos: \"1\",\n",
    "#\"123432\".  Implemente o programa usando \"for\" normal e usando list\n",
    "# comprehension\n",
    "s = \"\"\"Todos os seres humanos nascem livres e iguais em dignidade \n",
    "e em direitos. Dotados de razão e de consciência, devem agir uns para\n",
    "com os outros em espírito de fraternidade. Todos os seres humanos podem\n",
    "invocar os direitos e as liberdades proclamados na presente Declaração,\n",
    "sem distinção alguma, nomeadamente de raça, de cor, de sexo, de língua,\n",
    "de religião, de opinião política ou outra, de origem nacional ou social,\n",
    "de fortuna, de nascimento ou de qualquer outra situação. Além disso, não\n",
    "será feita nenhuma distinção fundada no estatuto político, jurídico ou\n",
    "internacional do país ou do território da naturalidade da pessoa, seja\n",
    "esse país ou território independente, sob tutela, autônomo ou sujeito a\n",
    "alguma limitação de soberania. Todo indivíduo tem direito à vida, à\n",
    "liberdade e à segurança pessoal.\"\"\".lower().translate(str.maketrans(\"\", \"\", \".!,\"))\n",
    "lst = []\n",
    "# Resposta para a lista lst: 4"
   ]
  },
  {
   "cell_type": "code",
   "execution_count": null,
   "metadata": {
    "collapsed": true
   },
   "outputs": [],
   "source": [
    "# Resolva o problema em https://github.com/alesr/python-exercises/tree/master/practice/binary_gap.\n",
    "# Dica: converta a representação binária (veja a função bin()) para\n",
    "# string e use os métodos de string\n",
    "# Exemplos e respostas no próprio site"
   ]
  },
  {
   "cell_type": "code",
   "execution_count": null,
   "metadata": {
    "collapsed": false
   },
   "outputs": [],
   "source": [
    "# Escreva uma função para calcular a média aritmética e geométrica\n",
    "# de uma lista de números reais\n",
    "import random\n",
    "MAX_LEN = 10\n",
    "lst = []"
   ]
  },
  {
   "cell_type": "code",
   "execution_count": null,
   "metadata": {
    "collapsed": false
   },
   "outputs": [],
   "source": [
    "# Defina uma função \"count_odd\" usando lambda para contar quantos\n",
    "# números ímpares distintos tem em uma lista.  Implemente com e sem list \n",
    "# comprehension\n",
    "lst = [43, 5, 15, 74, 89, 82, 68, 31, 29, 79, 1, 41, 58, 71, 40, 87, 64, 58, 27, 40]\n",
    "count_odd = lambda l: 12\n",
    "print(count_odd(lst))\n",
    "# Resposta: 12"
   ]
  },
  {
   "cell_type": "code",
   "execution_count": null,
   "metadata": {
    "collapsed": true
   },
   "outputs": [],
   "source": [
    "# Some todos os elementos de uma lista exceto o primeiro (e apenas\n",
    "# o primeiro) número par\n",
    "lst = [43, 5, 15, 74, 89, 82, 68, 31, 29, 79, 1, 41, 58, 71, 40, 87, 64, 58, 27, 40]\n",
    "# Resposta: 928"
   ]
  },
  {
   "cell_type": "code",
   "execution_count": null,
   "metadata": {
    "collapsed": true
   },
   "outputs": [],
   "source": [
    "# Imprima de forma organizada uma tabela de multiplicação contendo\n",
    "# até 12 x 12"
   ]
  },
  {
   "cell_type": "code",
   "execution_count": null,
   "metadata": {
    "collapsed": false
   },
   "outputs": [],
   "source": [
    "# Escreva uma função remove_first() que retire a primeira instância\n",
    "# (e apenas a primeira) de uma substring de uma string.  Se não\n",
    "# houver ocorrência da substring, a função deve retornar a string\n",
    "# original\n",
    "s = \"\"\"Ouviram do Ipiranga as margens plácidas\n",
    "De um povo heroico o brado retumbante\n",
    "E o sol da Liberdade, em raios fúlgidos\n",
    "Brilhou no céu da Pátria nesse instante\n",
    "Se o penhor dessa igualdade\n",
    "Conseguimos conquistar com braço forte\n",
    "Em teu seio, ó Liberdade\n",
    "Desafia o nosso peito a própria morte!\"\"\"\n",
    "s2 = \"\"\"Ouviram do Ipiranga  margens plácidas\n",
    "De um povo heroico o brado retumbante\n",
    "E o sol da Liberdade, em raios fúlgidos\n",
    "Brilhou no céu da Pátria nesse instante\n",
    "Se o penhor dessa igualdade\n",
    "Conseguimos conquistar com braço forte\n",
    "Em teu seio, ó Liberdade\n",
    "Desafia o nosso peito a própria morte!\"\"\"\n",
    "\n",
    "# Implemente a função abaixo\n",
    "def replace_first(ss, s):\n",
    "    \"\"\"ss - substring a ser retirada\n",
    "s - string de onde retirar ss\"\"\"\n",
    "    return s\n",
    "\n",
    "print(replace_first(\"as\", s) == s2)\n",
    "print(replace_first(\"Brasil\", s) == s)\n",
    "print(replace_first(\"\", s) == s)\n",
    "print(replace_first(\"Ok\", \"\") == \"\")"
   ]
  },
  {
   "cell_type": "code",
   "execution_count": null,
   "metadata": {
    "collapsed": true
   },
   "outputs": [],
   "source": [
    "# Escreva uma função intersecao() que aceite 2 dicionários e retorne\n",
    "# o dicionário da interseção dos dicionários onde o valor das chaves\n",
    "# na interseção é uma tupla dos valores dos dicionários\n",
    "d1 = {1: \"banana\", 2: \"laranja\", 4: \"maçã\", 8: \"uva\"}\n",
    "d2 = {2: \"ácido\", 4: \"pera\", 6: \"doce\"}\n",
    "\n",
    "print(intersecao(d1, d2))  \n",
    "# Resposta: {2: (\"laranja\", \"ácido\"), 4: (\"maçã\", \"pera\")}\n",
    "print(intersecao({}, d1))  # Resposta: {}\n",
    "print(intersecao({1: \"uno\", 2: \"dos\"}, {3: \"tres\", 4: \"cuatro\"}))  # Resposta: {}"
   ]
  }
 ],
 "metadata": {
  "kernelspec": {
   "display_name": "Python 3",
   "language": "python",
   "name": "python3"
  },
  "language_info": {
   "codemirror_mode": {
    "name": "ipython",
    "version": 3
   },
   "file_extension": ".py",
   "mimetype": "text/x-python",
   "name": "python",
   "nbconvert_exporter": "python",
   "pygments_lexer": "ipython3",
   "version": "3.6.3"
  }
 },
 "nbformat": 4,
 "nbformat_minor": 2
}
