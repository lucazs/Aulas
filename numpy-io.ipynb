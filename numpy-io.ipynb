{
 "cells": [
  {
   "cell_type": "markdown",
   "metadata": {},
   "source": [
    "# Numpy"
   ]
  },
  {
   "cell_type": "code",
   "execution_count": null,
   "metadata": {},
   "outputs": [],
   "source": [
    "%matplotlib inline\n",
    "import numpy as np\n",
    "import matplotlib.pyplot as plt"
   ]
  },
  {
   "cell_type": "markdown",
   "metadata": {},
   "source": [
    "## Informações sobre a array"
   ]
  },
  {
   "cell_type": "code",
   "execution_count": null,
   "metadata": {},
   "outputs": [],
   "source": [
    "# Numpy arrays possuem alguns atributos que fornecem informações sobre \n",
    "# suas características\n",
    "a = np.array([[0, 1, 2, 3],[4, 5, 6, 7],[8, 9, 10, 11]])\n",
    "print(\"Formato do array = \", a.shape)\n",
    "print(\"Número de dimensões = \", a.ndim)\n",
    "print(\"Número de elementos = \", a.size)\n",
    "print(\"Tamanho em bytes = \", a.nbytes)\n",
    "print(\"Tipo de cada elemento = \", a.dtype)"
   ]
  },
  {
   "cell_type": "code",
   "execution_count": null,
   "metadata": {},
   "outputs": [],
   "source": [
    "# Os tipos mais comuns de elementos são inteiros (de vários tamanhos),\n",
    "# floats e booleanos\n",
    "b = np.array([[True, False, False], [False, True, False]])\n",
    "print(\"Tipo do elemento de b = \", b.dtype)"
   ]
  },
  {
   "cell_type": "code",
   "execution_count": null,
   "metadata": {},
   "outputs": [],
   "source": [
    "# Podemos forçar que a array seja criada com um determinado tipo\n",
    "# usando o parâmetro dtype do construtor da array\n",
    "c = np.array([[0, 1, 2, 3],[4, 5, 6, 7],[8, 9, 10, 11]], dtype=float)\n",
    "print(\"Tamanho em bytes = \", c.nbytes)\n",
    "print(\"Tipo de cada elemento = \", c.dtype)"
   ]
  },
  {
   "cell_type": "code",
   "execution_count": null,
   "metadata": {},
   "outputs": [],
   "source": [
    "# Alguns atributos se comportam como funções.  Por exemplo, para \n",
    "# obter a parte imaginária dos elementos de uma array, use o\n",
    "# atributo imag\n",
    "a = np.array([[0, 1j, 2j], [0, 2j, 1j]])\n",
    "c = np.exp(a*np.pi/3)\n",
    "print(\"c = \", c)\n",
    "print(\"Parte imaginária de c = \", c.imag)\n",
    "print(\"Parte imaginária de c = \", c.real)"
   ]
  },
  {
   "cell_type": "code",
   "execution_count": null,
   "metadata": {},
   "outputs": [],
   "source": [
    "# Um outro atributo-função é o atributo T, que transpõe um array\n",
    "print(\"Transposta de c = \", c.T)"
   ]
  },
  {
   "cell_type": "markdown",
   "metadata": {},
   "source": [
    "## Manipulando arrays"
   ]
  },
  {
   "cell_type": "code",
   "execution_count": null,
   "metadata": {},
   "outputs": [],
   "source": [
    "# Podemos redimensionar um array usando a função resize()\n",
    "a = np.array([[0, 1], [2, 3]])\n",
    "print(\"Array a antes de redimensionar:\\n\", a)\n",
    "a.resize(2, 3)\n",
    "print(\"Array a depois de redimensionar:\\n\", a)"
   ]
  },
  {
   "cell_type": "code",
   "execution_count": null,
   "metadata": {},
   "outputs": [],
   "source": [
    "# Observe que a forma de ordenar os elementos de uma matrix (C-like\n",
    "# ou Fortran-like) influencia no resultado\n",
    "b = np.array([[0, 1], [2, 3]], order=\"F\")\n",
    "print(\"Array b antes de redimensionar:\\n\", b)\n",
    "b.resize(2, 3)\n",
    "print(\"Array b depois de redimensionar:\\n\", b)"
   ]
  },
  {
   "cell_type": "code",
   "execution_count": null,
   "metadata": {},
   "outputs": [],
   "source": [
    "# Podemos converter um array qualquer para um array unidimensional através\n",
    "# dos métodos flatten() ou ravel()\n",
    "c = a.ravel()\n",
    "print(\"Array c:\\n\", c)\n",
    "d = a.flatten()\n",
    "print(\"Array d:\\n\", d)"
   ]
  },
  {
   "cell_type": "code",
   "execution_count": null,
   "metadata": {},
   "outputs": [],
   "source": [
    "# Observe que a conversão para array unidimensional pode levar em conta\n",
    "# a ordem dos elementos na memória\n",
    "e = a.ravel(order=\"F\")\n",
    "print(\"Array e:\\n\", e)"
   ]
  },
  {
   "cell_type": "code",
   "execution_count": null,
   "metadata": {},
   "outputs": [],
   "source": [
    "# Podemos criar uma nova dimensão em um array já existente através\n",
    "# da constante np.newaxis\n",
    "a = np.zeros(6)\n",
    "b = a[:, np.newaxis]\n",
    "c = b[:, np.newaxis, :]\n",
    "print(\"Formato de a = \", a.shape)\n",
    "print(\"Formato de b = \", b.shape)\n",
    "print(\"Formato de c = \", c.shape)"
   ]
  },
  {
   "cell_type": "markdown",
   "metadata": {},
   "source": [
    "## Funcionalidades de IO"
   ]
  },
  {
   "cell_type": "markdown",
   "metadata": {},
   "source": [
    "Numpy oferece funcionalidades para salvar dados no sistema de arquivos e recarregá-los de volta.  Isto pode ser feito salvando no modo binário ou no modo texto.  Em modo texto, temos a flexibilidade para salvar em alguns dos formatos mais comuns, como o CSV, por exemplo.\n",
    "\n",
    "Além destas funcionalidades básicas do Numpy, a biblioteca Scipy também oferece funções para salvar e recuperar dados que são ainda mais poderosas.  Estudaremo-nas quando estudarmos Scipy."
   ]
  },
  {
   "cell_type": "code",
   "execution_count": null,
   "metadata": {},
   "outputs": [],
   "source": [
    "# Podemos salvar em binário um array de cada vez com a função save().  Esta\n",
    "# função aceita um objeto que se comporte como um File ou uma string\n",
    "# com o nome do arquivo.  Se for uma string, o sufixo \".npy\" é \n",
    "# colocado no final do nome, se ainda não existir\n",
    "import numpy as np\n",
    "from pathlib import Path\n",
    "\n",
    "a = np.random.randn(5, 10)\n",
    "\n",
    "with Path(\"teste_save.npy\").open(\"wb\") as f:\n",
    "    np.save(f, a)\n",
    "\n",
    "with Path(\"teste_save.npy\").open(\"rb\") as f:\n",
    "    b = np.load(f)\n",
    "\n",
    "print(\"Array a:\", a)\n",
    "print(\"Array b:\", b)"
   ]
  },
  {
   "cell_type": "code",
   "execution_count": null,
   "metadata": {},
   "outputs": [],
   "source": [
    "# Para salvar um array em texto, usamos a função savetxt().  Para\n",
    "# ler um array de um arquivo texto, use a função loadtxt()\n",
    "a = np.random.randn(5, 10)\n",
    "\n",
    "with open(\"teste_save2.dat\", \"wb\") as f:\n",
    "    np.savetxt(f, a)\n",
    "\n",
    "with open(\"teste_save2.dat\", \"rb\") as f:\n",
    "    b = np.loadtxt(f)\n",
    "\n",
    "print(\"Array a:\", a)\n",
    "print(\"Array b:\", b)"
   ]
  },
  {
   "cell_type": "code",
   "execution_count": null,
   "metadata": {},
   "outputs": [],
   "source": [
    "# A função loadtxt() também é conveniente para ler arquivos csv.\n",
    "# Para isso devemos usar o argumento delimiter\n",
    "with open(\"scope.csv\", \"rb\") as f:\n",
    "    a = np.loadtxt(f, delimiter=\",\", skiprows=2)\n",
    "\n",
    "print(\"Formato de a:\", a.shape)\n",
    "print(\"Conteúdo parcial de a = \", a[:10,:])"
   ]
  }
 ],
 "metadata": {
  "kernelspec": {
   "display_name": "Python 3",
   "language": "python",
   "name": "python3"
  },
  "language_info": {
   "codemirror_mode": {
    "name": "ipython",
    "version": 3
   },
   "file_extension": ".py",
   "mimetype": "text/x-python",
   "name": "python",
   "nbconvert_exporter": "python",
   "pygments_lexer": "ipython3",
   "version": "3.6.5"
  }
 },
 "nbformat": 4,
 "nbformat_minor": 1
}
