{
 "cells": [
  {
   "cell_type": "markdown",
   "metadata": {},
   "source": [
    "Banco de Dados\n",
    "=="
   ]
  },
  {
   "cell_type": "markdown",
   "metadata": {},
   "source": [
    "Um banco de dados relacional é uma coleção de dados organizados em tabelas que permite inserção, modificação, remoção e consulta de dados de forma eficiente e segura.\n",
    "\n",
    "Existem vários bancos de dados que podem ser usados em Python.  O que usaremos aqui é um banco, o SQLite3, existente na biblioteca padrão que é de fácil manutenção.\n",
    "\n",
    "Banco de dados relacionais só trabalham com tabelas, que consistem de linhas e colunas.  As colunas contém os dados individuais, e devem ter nome, tipo e, opcionalmente, restrição."
   ]
  },
  {
   "cell_type": "code",
   "execution_count": null,
   "metadata": {},
   "outputs": [],
   "source": [
    "import sqlite3\n",
    "\n",
    "#Esta é a forma de abrirmos um arquivo de sqlite\n",
    "conn = sqlite3.connect('python2018.db')\n",
    "\n",
    "# Bancos relacionais só trabalham com tabelas\n",
    "try:\n",
    "    conn.execute(\"CREATE TABLE alunos (CPF VARCHAR PRIMARY KEY, nome VARCHAR, \"\n",
    "        \"sobrenome VARCHAR, nota REAL)\")\n",
    "except sqlite3.OperationalError:\n",
    "    print(\"Tabela 'alunos' já existe. Ignorando erro...\")\n",
    "\n",
    "# Sempre que modificarmos a tabela temos que dar um commit() para salvar as modificações\n",
    "conn.commit()\n",
    "# O método close() desativa a conexão.  Nada mais pode ser feito no banco de dados após o close()\n",
    "conn.close()"
   ]
  },
  {
   "cell_type": "markdown",
   "metadata": {},
   "source": [
    "As operações efetuadas em banco de dados em geral é usando a linguagem SQL.  Um resumo desta linguagem pode ser encontrado [aqui](http://files.zeroturnaround.com/pdf/zt_sql_cheat_sheet.pdf).  Outros dois mais completos podem ser achados [aqui](http://www.sqltutorial.org/wp-content/uploads/2016/04/SQL-cheat-sheet.pdf) e [aqui](/www.sql-tutorial.net/sql-cheat-sheet.pdf).\n",
    "\n",
    "Os comandos mais usados são os seguintes:\n",
    "* INSERT - para inserir novos dados em uma tabela\n",
    "* SELECT - para pesquisar dados em uma tabela\n",
    "* UPDATE - para atualizar dados em uma tabela\n",
    "* DELETE - para remover dados de uma tabela\n",
    "* CREATE - para criar tabelas e views"
   ]
  },
  {
   "cell_type": "code",
   "execution_count": null,
   "metadata": {},
   "outputs": [],
   "source": [
    "conn = sqlite3.connect('python2018.db')\n",
    "\n",
    "# Inserindo um valor\n",
    "try:\n",
    "    conn.execute(\"INSERT INTO alunos VALUES ('000.000.000-00', 'Astrogildo', 'Silva', 8.0)\")\n",
    "\n",
    "# Inserindo um valor através de variáveis\n",
    "    cpf, nome, sobrenome, nota = \"111.111.111-11\", \"Godofredo\", \"Ramos\", 9.0\n",
    "    conn.execute(\"INSERT INTO alunos VALUES (?, ?, ?, ?)\", (cpf, nome, sobrenome, nota))\n",
    "except sqlite3.IntegrityError:\n",
    "    print(\"Dado já existente...  Desfazendo modificações!!!\")\n",
    "    conn.rollback\n",
    "else:\n",
    "    print(\"Tudo ok.  Commitando...\")\n",
    "    conn.commit()"
   ]
  },
  {
   "cell_type": "markdown",
   "metadata": {},
   "source": [
    "Além do tipo `Connection` retornado pela função `connect()`, o banco de dados também tem o tipo `Cursor`, que é o que é geralmente usado para executar as operações."
   ]
  },
  {
   "cell_type": "code",
   "execution_count": null,
   "metadata": {},
   "outputs": [],
   "source": [
    "c = conn.cursor()\n",
    "\n",
    "c.execute(\"UPDATE alunos SET nota = 7.0 WHERE nome = 'Godofredo'\")\n",
    "c.execute(\"UPDATE alunos SET nota = 10.0 WHERE nome = 'Ermengarda'\")\n",
    "conn.commit()"
   ]
  },
  {
   "cell_type": "code",
   "execution_count": null,
   "metadata": {},
   "outputs": [],
   "source": [
    "rows = c.execute(\"SELECT * FROM alunos\")\n",
    "for cpf, nome, sobrenome, nota in rows:\n",
    "    print(\"CPF = {} - Nome = {} {}\\t\\tNota = {}\".format(cpf, nome, sobrenome, nota))"
   ]
  },
  {
   "cell_type": "code",
   "execution_count": null,
   "metadata": {},
   "outputs": [],
   "source": [
    "# Podemos inserir vários elementos de uma única vez usando o método executemany()\n",
    "rows = [(\"222.222.222-22\", \"Rei\", \"Leão\", 3.0),\n",
    "       (\"333.333.333-33\", \"Rainha\", \"Leoa\", 9.0),\n",
    "       (\"444.444.444-44\", \"Ermengarda\", \"Assunção\", 10.0)]\n",
    "try:\n",
    "    c.executemany(\"INSERT INTO alunos VALUES (?, ?, ?, ?)\", rows)\n",
    "except sqlite3.IntegrityError:\n",
    "    print(\"Valores repetidos.  Desfazendo tudo...\")\n",
    "    conn.rollback()\n",
    "else:\n",
    "    print(\"Sucesso\")\n",
    "    conn.commit()"
   ]
  },
  {
   "cell_type": "code",
   "execution_count": null,
   "metadata": {},
   "outputs": [],
   "source": [
    "rows = c.execute(\"SELECT * FROM alunos WHERE nota >= 9.0\")\n",
    "print(\"Aprovados:\")\n",
    "for cpf, nome, sobrenome, nota in rows:\n",
    "    print(\"CPF = {} - Nome = {} {}\\t\\tNota = {}\".format(cpf, nome, sobrenome, nota))\n",
    "    print()"
   ]
  }
 ],
 "metadata": {
  "kernelspec": {
   "display_name": "Python 3",
   "language": "python",
   "name": "python3"
  },
  "language_info": {
   "codemirror_mode": {
    "name": "ipython",
    "version": 3
   },
   "file_extension": ".py",
   "mimetype": "text/x-python",
   "name": "python",
   "nbconvert_exporter": "python",
   "pygments_lexer": "ipython3",
   "version": "3.6.5"
  }
 },
 "nbformat": 4,
 "nbformat_minor": 2
}
