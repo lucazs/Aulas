{
 "cells": [
  {
   "cell_type": "markdown",
   "metadata": {
    "deletable": true,
    "editable": true
   },
   "source": [
    "Classes\n",
    "==="
   ]
  },
  {
   "cell_type": "markdown",
   "metadata": {
    "deletable": true,
    "editable": true
   },
   "source": [
    "Python é uma linguagem orientada a objetos e portanto podemos definir classes e objetos nela.  Apesar de permitir este tipo de programação, entretanto, muitos programas em Python simplesmente não utilizam este paradigma, e funcionam sem problemas.\n",
    "\n",
    "Como, contudo, existem alguns casos onde classes são úteis, como na definição de geradores e iterators, entre outros, estudaremos a forma como definir e usar classes e objetos em Python.\n",
    "\n",
    "Existem dois conceitos principais em Programação Orientada a Objeto (POO, para encurtar): encapsulamento e herança.  O primeiro refere-se ao fato de uma classe conter tanto os dados, chamados de atributos, necessários para sua abstração, como as funções, chamadas métodos, que operam sobre estes dados (e possivelmente um ou mais argumentos externos à classe).\n",
    "\n",
    "O segundo conceito, herança, é um pouco mais sutil e envolve o objetivo mor da programação, que é o reuso de código.  Em POO, uma classe pode \"herdar\" de outra suas funcionalidades, precisando definir apenas as funcionalidades específicas à sua lógica."
   ]
  },
  {
   "cell_type": "markdown",
   "metadata": {
    "deletable": true,
    "editable": true
   },
   "source": [
    "Uma classe é definida pelo uso da instrução \"class\", seguida do nome da classe e de uma lista de classes, entre parênteses, das quais essa classe deriva.  A linha é terminada por \":\".  As linhas seguintes compõem o corpo da definição da classe e devem estar indentadas apropriadamente.  Uma classe que não deriva explicitamente de outra deriva implicitamente da classe \"object\"."
   ]
  },
  {
   "cell_type": "code",
   "execution_count": null,
   "metadata": {
    "collapsed": false,
    "deletable": true,
    "editable": true
   },
   "outputs": [],
   "source": [
    "# Uma classe inútil\n",
    "class A:\n",
    "    pass\n",
    "\n",
    "# Uma classe ligeiramente menos inútil.  B \"herda\" da classe list\n",
    "# e sobrecarrega (um termo de POO) o método append() de list.\n",
    "# A função super() retorna a classe base, no caso, list.\n",
    "class B(list):\n",
    "    def append(self, v):\n",
    "        super().append(2*v)\n",
    "\n",
    "obj = B()\n",
    "obj.append(2)\n",
    "print(obj)\n",
    "print(obj[0])"
   ]
  },
  {
   "cell_type": "markdown",
   "metadata": {
    "collapsed": true,
    "deletable": true,
    "editable": true
   },
   "source": [
    "Em geral nós vamos querer definir algumas funcionalidades específicas da nossa classe sendo criada.  Podemos definir dois tipos de coisas: dados e funções.  No caso de funções, elas tem que ser definidas com um primeiro parâmetro especial que é inicializado com a instância da classe pela qual estamos a chamando."
   ]
  },
  {
   "cell_type": "code",
   "execution_count": null,
   "metadata": {
    "collapsed": false,
    "deletable": true,
    "editable": true
   },
   "outputs": [],
   "source": [
    "class A:\n",
    "    # Atributos da classe\n",
    "    dado1 = 10\n",
    "    dado2 = 20\n",
    "    \n",
    "    def fun(self, meu_dado=3):\n",
    "        # Atributo do objeto por estar sendo referenciado por self\n",
    "        self.dado3 = meu_dado\n",
    "        print(\"Valor do atributo de classe dado1 = \", A.dado1)\n",
    "        print(\"Valor do atributo de objeto dado3 = \", self.dado3)\n",
    "        \n",
    "# Para chamar a função fun() devemos ou passar um argumento do tipo\n",
    "# A() (uma instância de A), ou chamar fun() através de uma instância \n",
    "# de A\n",
    "obj = A()   # Criamos um objeto do tipo A\n",
    "print(obj.dado1)\n",
    "print(obj.dado2)\n",
    "print(\"*** Chamando fun() através da classe A\")\n",
    "A.fun(obj)\n",
    "print(\"*** Chamando fun() diretamente através de uma instância de A\")\n",
    "obj.fun()"
   ]
  },
  {
   "cell_type": "code",
   "execution_count": null,
   "metadata": {
    "collapsed": false,
    "deletable": true,
    "editable": true
   },
   "outputs": [],
   "source": [
    "# Em programação orientada a objeto usamos um tipo de método especial,\n",
    "# chamado de construtor, para \"construir\" uma classe e criar uma\n",
    "# instância da classe.  No código acima usamos um construtor padrão\n",
    "# gerado pelo próprio Python.  Podemos escrever um construtor \n",
    "# específico para a nossa clase definindo um método especial\n",
    "# chamado __init__()\n",
    "class A:\n",
    "    def __init__(self):\n",
    "        print(\"Construindo uma instância de A\")\n",
    "        \n",
    "obj = A()"
   ]
  },
  {
   "cell_type": "code",
   "execution_count": null,
   "metadata": {
    "collapsed": false,
    "deletable": true,
    "editable": true
   },
   "outputs": [],
   "source": [
    "# Existe uma distinção entre acessar atributos e métodos de uma\n",
    "# classe e atributos e métodos de uma instância da classe.  O\n",
    "# primeiro é feito acessando-os a partir do nome da classe, \n",
    "# enquanto o segundo é feito acessando-os através de um objeto.\n",
    "# A definição de atributos de um objeto é feito através do\n",
    "# primeiro argumento de um método (geralmente chamado de \"self\")\n",
    "class Circle:\n",
    "    excentricidade = 1   # Atributo de classe\n",
    "    def __init__(self, x0, y0, r):\n",
    "        self.centro = (x0, y0)  # Atributo de objeto\n",
    "        self.raio = r           # Atributo de objeto\n",
    "        \n",
    "c = Circle(0, 0, 1)\n",
    "print(\"O círculo está centrado em\", c.centro)\n",
    "print(\"O raio do círculo é\", c.raio)\n",
    "print(\"A excentricidade de um círculo é\", Circle.excentricidade)\n",
    "\n",
    "# Podemos acessar um atributo da classe através de um objeto também...\n",
    "print(\"(Obtendo através do objeto) A excentricidade de um círculo é\", c.excentricidade)\n",
    "# Mas não se definirmos um atributo de objeto com o mesmo nome\n",
    "c.excentricidade = 0.1\n",
    "print(\"(Obtendo através do objeto de novo) A excentricidade de um círculo é\", c.excentricidade)\n",
    "# O atributo da classe continua intocado\n",
    "print(\"A excentricidade de um círculo é\", Circle.excentricidade)\n",
    "# A não ser que decidamos tocá-lo explicitamente\n",
    "Circle.excentricidade = 5\n",
    "print(\"A excentricidade de um círculo é\", Circle.excentricidade)"
   ]
  },
  {
   "cell_type": "code",
   "execution_count": null,
   "metadata": {
    "collapsed": false
   },
   "outputs": [],
   "source": [
    "# Observe também que quando mudamos o valor de um atributo de classe\n",
    "# a mudança vale para todos os objetos\n",
    "\n",
    "class B:\n",
    "    dado1 = 10\n",
    "    def __init__(self, meu_dado=3):\n",
    "        self.dado2 = meu_dado\n",
    "\n",
    "obj1 = B()\n",
    "obj2 = B(10)\n",
    "\n",
    "B.dado1 = 200\n",
    "print(\"Valor do atributo de classe dado1 = \", obj1.dado1)\n",
    "print(\"Valor do atributo de classe dado1 = \", obj2.dado1)\n",
    "\n",
    "# Compare com o que acontece quando mudamos o atributo de um objeto\n",
    "obj1.dado2= 20\n",
    "print(\"Valor do atributo de classe dado1 = \", obj1.dado2)\n",
    "print(\"Valor do atributo de classe dado1 = \", obj2.dado2)"
   ]
  },
  {
   "cell_type": "markdown",
   "metadata": {
    "deletable": true,
    "editable": true
   },
   "source": [
    "Em Python não existe o conceito de atributos e métodos privados; todos são considerados públicos.  Não apenas isso, mas qualquer parte do programa pode acessar e ** definir ** atributos em um objeto."
   ]
  },
  {
   "cell_type": "code",
   "execution_count": null,
   "metadata": {
    "collapsed": false,
    "deletable": true,
    "editable": true
   },
   "outputs": [],
   "source": [
    "class A:\n",
    "    def __init__(self, a):\n",
    "        self.a = a\n",
    "        \n",
    "obj = A(10)\n",
    "print(\"O valor de a é\", obj.a)\n",
    "obj.b = 5\n",
    "print(\"O valor de b é\", obj.b)"
   ]
  },
  {
   "cell_type": "markdown",
   "metadata": {
    "deletable": true,
    "editable": true
   },
   "source": [
    "# Herança"
   ]
  },
  {
   "cell_type": "markdown",
   "metadata": {
    "deletable": true,
    "editable": true
   },
   "source": [
    "Um conceito muito importante em OOP é a herança.  Este conceito significa que podemos definir uma classe em função de outra e fazê-la herdar os atributos e métodos de seu antecessor."
   ]
  },
  {
   "cell_type": "code",
   "execution_count": null,
   "metadata": {
    "collapsed": false,
    "deletable": true,
    "editable": true
   },
   "outputs": [],
   "source": [
    "class A:\n",
    "    def __init__(self):\n",
    "        self.a = 10\n",
    "        self.c = 1\n",
    "        \n",
    "    def fun1(self, c):\n",
    "        self.c = c\n",
    "        return 2*c\n",
    "    \n",
    "class B(A):\n",
    "    def __init__(self):\n",
    "        super().__init__()  # Maneira correta de chamar um método da classe base\n",
    "        self.b = 5\n",
    "        \n",
    "    def fun2(self, d):\n",
    "        self.d = d\n",
    "        \n",
    "obj1 = A()\n",
    "obj2 = B()\n",
    "\n",
    "obj2.fun1(-1)  # Herdado da classe A\n",
    "obj2.fun2(20)  # Definido na classe B\n",
    "\n",
    "print(obj1.a, obj1.c)  # Classe A não tem atributo b\n",
    "print(obj2.a, obj2.b, obj2.c, obj2.d)"
   ]
  },
  {
   "cell_type": "markdown",
   "metadata": {
    "deletable": true,
    "editable": true
   },
   "source": [
    "Python tem o método `isinstance(obj, cls)` que pode ser usado para testar se o objeto `obj` é uma instância da classe `cls` ou de uma de suas classes-base.\n",
    "\n",
    "Além deste método, Python também tem o método `issubclass(cls1 cls2)` para testar se a classe `cls1` é uma subclasse da classe `cls2`."
   ]
  },
  {
   "cell_type": "code",
   "execution_count": null,
   "metadata": {
    "collapsed": false,
    "deletable": true,
    "editable": true
   },
   "outputs": [],
   "source": [
    "print(\"obj1 é uma instância da classe A?\", isinstance(obj1, A))\n",
    "print(\"obj1 é uma instância da classe B?\", isinstance(obj1, B))\n",
    "print(\"obj2 é uma instância da classe A?\", isinstance(obj2, A))\n",
    "print(\"obj2 é uma instância da classe B?\", isinstance(obj2, B))\n",
    "\n",
    "print(\"Classe A é uma subclasse da classe B?\", issubclass(A, B))\n",
    "print(\"Classe B é uma subclasse da classe A?\", issubclass(B, A))"
   ]
  },
  {
   "cell_type": "markdown",
   "metadata": {
    "deletable": true,
    "editable": true
   },
   "source": [
    "### Exercício"
   ]
  },
  {
   "cell_type": "markdown",
   "metadata": {
    "deletable": true,
    "editable": true
   },
   "source": [
    "Crie uma classe para representar uma figura geométrica que tenha um atributo consistindo de uma tupla com o centro geométrico da figura (inicializado no construtor e com valor default sendo a origem) e três métodos, um para retornar a distância do centro geométrico a um ponto passado como tupla (com valor default sendo a origem) para o método, outro para retornar a área da figura e outro para retornar o seu perímetro.  Estes dois últimos métodos devem lançar a exceção NotImplementedError já que são métodos abstratos cujo objetivo é ser sobrecarregados nas classes derivadas ([Referência](file:///usr/share/doc/python3/html/library/exceptions.html#NotImplementedError))\n",
    "\n",
    "Defina então duas classes derivadas da classe anterior, uma para círculos e outra para quadrados.  Ambas as classes devem sobrecarregar os métodos da área e do perímetro. A de círculos deve ter um construtor que inicializa não só o centro geométrico mas também o raio do círculo, este último com um valor-padrão de 1.  Além disso, sobrecarregue os operadores \"==\", \"!=\", \"<\", \">\", \"<=\" e \">=\" para comparar dois círculos em termos de seus raios.  Para sobrecarregar esses operadores, defina os métodos `__eq__(self,other)`, `__ne__(self, other)`, `__lt__(self, other)`, `__gt__(self, other)`, `__le__(self, other)` e `__ge__(self, other)` retornando valores `True` ou `False` apropriadamente ([Referência1](http://jcalderone.livejournal.com/32837.html), [Referência2](https://docs.python.org/3/library/constants.html#NotImplemented)).  Defina também em método `__contains__(self, other)` para sobrecarregar o operador `in` de modo que ele retorne `True` se um círculo estiver inteiramente dentro do outro (o círculo interno é permitido tangenciar o círculo externo).\n",
    "\n",
    "A classe de quadrados deve definir métodos e atributos para ter o mesmo comportamento que a classe Círculo, exceto que o quadrado será definido pela posição do ponto referente à sua quina inferior esquerda.  A partir deste ponto e do ponto relativo ao centro geométrico herdado da classe base, você pode definir as propriedades do quadrado.  Inicialize este ponto no construtor da classe e defina um valor-padrão de `(-1/2, -1/2)`.  A classe de quadrados deve também definir um método que retorne a lista da posição de suas quinas.\n",
    "\n",
    "Use os testes abaixo para testar o seu código.  Desenvolva testes para testar se um quadrado está dentro do outro e  se as quinas do quadrado estão corretas."
   ]
  },
  {
   "cell_type": "code",
   "execution_count": null,
   "metadata": {
    "collapsed": false,
    "deletable": true,
    "editable": true
   },
   "outputs": [],
   "source": [
    "# Implemente as classes abaixo e mais qualquer outra coisa que você\n",
    "# necessite\n",
    "\n",
    "class Figura:\n",
    "    pass\n",
    "\n",
    "class Circulo:\n",
    "    pass\n",
    "\n",
    "class Quadrado:\n",
    "    pass\n",
    "\n",
    "# Testes para as classes Circulo e Quadrado\n",
    "import unittest\n",
    "\n",
    "class MyTest(unittest.TestCase):\n",
    "\n",
    "    def test_figura(self):\n",
    "        f1 = Figura()\n",
    "        f2 = Figura((1, 1))\n",
    "        self.assertEqual(f1.distancia(), 0)\n",
    "        self.assertEqual(round(f2.distancia((3, 2)), 3), 2.236)\n",
    "\n",
    "    def test_circulo(self):\n",
    "        c1 = Circulo()\n",
    "        c2 = Circulo((1, 1))\n",
    "        c3 = Circulo((1, 0), 3)\n",
    "        c4 = Circulo((0, 0), 1)\n",
    "        self.assertTrue(c1 <= c2)\n",
    "        self.assertTrue(c2 < c3)\n",
    "        self.assertFalse(c1 > c3)\n",
    "        self.assertTrue(c1 >= c1)\n",
    "        self.assertFalse(c2 >= c3)\n",
    "        self.assertTrue(c1 == c4)\n",
    "        self.assertTrue(c3 != c4)\n",
    "        self.assertTrue(c2 in c3)\n",
    "        self.assertFalse(c2 in c1)\n",
    "        self.assertEqual(round(c1.area(), 3), 3.142)\n",
    "        self.assertEqual(round(c2.perimetro(), 3), 6.283)\n",
    "        self.assertEqual(round(c3.distancia((3, 2)), 3), 2.828)\n",
    "\n",
    "    def test_criacao_quadrado(self):\n",
    "        q1 = Quadrado()\n",
    "        q2 = Quadrado((1, 1))\n",
    "        q3 = Quadrado((1, 0), (2, 2))\n",
    "        q4 = Quadrado((0, 0), (-0.5, -0.5))\n",
    "        self.assertTrue(q1 <= q2)\n",
    "        self.assertTrue(q2 < q3)\n",
    "        self.assertFalse(q1 > q3)\n",
    "        self.assertTrue(q1 >= q1)\n",
    "        self.assertFalse(q2 >= q3)\n",
    "        self.assertTrue(q1 == q4)\n",
    "        self.assertTrue(q3 != q4)\n",
    "        self.assertEqual(round(q1.area(), 3), 1)\n",
    "        self.assertEqual(round(q2.perimetro(), 3), 12)\n",
    "        self.assertEqual(round(q3.distancia((3, 2)), 3), 2.828)\n",
    "\n",
    "unittest.main(argv=['first-arg-is-ignored'], exit=False)"
   ]
  }
 ],
 "metadata": {
  "kernelspec": {
   "display_name": "Python 3",
   "language": "python",
   "name": "python3"
  },
  "language_info": {
   "codemirror_mode": {
    "name": "ipython",
    "version": 3
   },
   "file_extension": ".py",
   "mimetype": "text/x-python",
   "name": "python",
   "nbconvert_exporter": "python",
   "pygments_lexer": "ipython3",
   "version": "3.6.3"
  }
 },
 "nbformat": 4,
 "nbformat_minor": 0
}
