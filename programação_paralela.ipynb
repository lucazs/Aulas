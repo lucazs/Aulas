{
 "cells": [
  {
   "cell_type": "markdown",
   "metadata": {},
   "source": [
    "Programação concorrente e paralela\n",
    "==="
   ]
  },
  {
   "cell_type": "markdown",
   "metadata": {},
   "source": [
    "Programação com threads é um vasto e complexo tópico, principalmente devido à questão de evitar conflitos em recursos compartilhados.  Entretanto, para algumas das situações mais comuns, Python fornece soluções mais simples que encapsulam a complexidade atrás de uma API bem definida.\n",
    "\n",
    "Neste contexto, estudaremos dois módulos de Python que lidam com programação concorrente ou paralela: `threading` e `concurrent.futures`.\n",
    "\n",
    "O módulo `threading` é o módulo de mais baixo nível entre os três, dando acesso direto às threads e suas informações, além de objetos auxiliares que permitem a sincronização entre as threads.  Devido a esta variedade de funcionalidade, ele é o módulo mais flexível de ser usado, embora seja o mais complexo também.\n",
    "\n",
    "Os módulos `multiprocessing` e `concurrent.futures` fornecem uma API mais simplificada e restrita, porém ainda assim muito poderosa.  Estes módulos são, em geral, os mais recomendados de serem usados para programação concorrente e paralela.  É importante notar que estes dois módulos podem usar, para a execução concorrente das tarefas, tanto threads como processos."
   ]
  },
  {
   "cell_type": "markdown",
   "metadata": {},
   "source": [
    "# Módulo `threading`"
   ]
  },
  {
   "cell_type": "markdown",
   "metadata": {},
   "source": [
    "## Classe `Thread`"
   ]
  },
  {
   "cell_type": "markdown",
   "metadata": {},
   "source": [
    "A classe principal é a Thread, usada para encapsular uma thread.  Seu construtor deve ser chamado com os argumentos passados por nomes.  Entre os eles estão o argumento `target`, contendo uma função que será executada pela thread, e os argumentos `args` e `kwargs`, que é uma tupla e um dicionário, respectivamente, a serem passados para a função `target`.  Os valores-padrão de `args` e `kwargs` são uma tupla e um dicionário vazios, respectivamente.\n",
    "\n",
    "O objeto Thread criado pode ter a thread associada posta para rodar através do método `start()`.  Este método deve ser chamado uma única vez.  Uma vez que a thread execute, o método `run()` é chamado.  Este método, afora o método `__init__()`, é o único que pode ser reimplementado em uma subclasse de `Thread`.  A implementação-padrão de `run()` simplesmente chama o método `target` passado para o construtor da classe juntamente com os argumentos também informados no construtor.\n",
    "\n",
    "Um outro método que a classe `Thread` possui é o `join()`.  Quem chamar este método irá bloquear esperando a thread terminar."
   ]
  },
  {
   "cell_type": "code",
   "execution_count": null,
   "metadata": {},
   "outputs": [],
   "source": [
    "import threading\n",
    "import time\n",
    "\n",
    "def target(msg=\"Que horas são?\"):\n",
    "    print(\"Iniciando a contagem na nova thread:\", end=\" \")\n",
    "    for i in range(10):\n",
    "        print(i, end=\" \")\n",
    "        time.sleep(1)\n",
    "    print()\n",
    "    print(\"Função posta pra dormir às\", time.time())\n",
    "    time.sleep(3)\n",
    "    print(\"Função acordou às\", time.time())\n",
    "    print(msg)\n",
    "\n",
    "th = threading.Thread(target=target, kwargs={\"msg\": \"Que soninho bom...\"})\n",
    "th.start()\n",
    "print(\"Iniciando a contagem na thread principal:\", end=\" \")\n",
    "for i in range(10):\n",
    "    print(i, end=\" \")\n",
    "    time.sleep(1)\n",
    "print()\n",
    "print(\"Esperando pela thread...\")\n",
    "th.join()\n",
    "print(\"A thread retornou...\")"
   ]
  },
  {
   "cell_type": "markdown",
   "metadata": {},
   "source": [
    "Observe que tanto a thread principal como a thread secundária criada fazem uso do `print()` ao mesmo tempo.  Isto causa conflitos, uma escrevendo por cima da outra.  Isto é típico de quando diferentes threads fazem uso de recursos compartilhados sem sincronia.\n",
    "\n",
    "Para evitar isso, podemos usar algumas funcionalidades do módulo `threading` como por exemplo, a classe `Lock`."
   ]
  },
  {
   "cell_type": "code",
   "execution_count": null,
   "metadata": {},
   "outputs": [],
   "source": [
    "import threading\n",
    "import time\n",
    "\n",
    "def target(lck, msg=\"Que horas são?\"):\n",
    "    with lck:\n",
    "        print(\"Iniciando a contagem na nova thread:\", end=\" \")\n",
    "        for i in range(10):\n",
    "            print(i, end=\" \")\n",
    "            time.sleep(0.5)\n",
    "        print()\n",
    "        print(\"Função posta pra dormir às\", time.time())\n",
    "    time.sleep(3)\n",
    "    with lck:\n",
    "        print(\"Função acordou às\", time.time())\n",
    "        print(msg)\n",
    "\n",
    "lck = threading.Lock()\n",
    "\n",
    "th = threading.Thread(target=target, args=(lck,), kwargs={\"msg\": \"Que soninho bom...\"})\n",
    "th.start()\n",
    "with lck:\n",
    "    print(\"Iniciando a contagem na thread principal:\", end=\" \")\n",
    "    for i in range(10):\n",
    "        print(i, end=\" \")\n",
    "        time.sleep(0.5)\n",
    "    print()\n",
    "with lck:\n",
    "    print(\"Esperando pela thread...\")\n",
    "th.join()\n",
    "print(\"A thread retornou...\")"
   ]
  },
  {
   "cell_type": "markdown",
   "metadata": {},
   "source": [
    "# Módulo `concurrent.futures`"
   ]
  },
  {
   "cell_type": "markdown",
   "metadata": {},
   "source": [
    "## Classe `ThreadPoolExecutor`"
   ]
  },
  {
   "cell_type": "markdown",
   "metadata": {},
   "source": [
    "Esta classe permite executar tarefas em threads separadas de forma natural e eficiente."
   ]
  },
  {
   "cell_type": "code",
   "execution_count": null,
   "metadata": {},
   "outputs": [],
   "source": [
    "import concurrent.futures\n",
    "import urllib.request\n",
    "\n",
    "URLS = ['http://www.foxnews.com/',\n",
    "        'http://www.cnn.com/',\n",
    "        'http://europe.wsj.com/',\n",
    "        'http://www.bbc.co.uk/',\n",
    "        'http://some-made-up-domain.com/']\n",
    "\n",
    "# Retrieve a single page and report the URL and contents\n",
    "def load_url(url, timeout):\n",
    "    with urllib.request.urlopen(url, timeout=timeout) as conn:\n",
    "        return conn.read()\n",
    "\n",
    "# We can use a with statement to ensure threads are cleaned up promptly\n",
    "with concurrent.futures.ThreadPoolExecutor(max_workers=5) as executor:\n",
    "    # Start the load operations and mark each future with its URL\n",
    "    future_to_url = {executor.submit(load_url, url, 60): url for url in URLS}\n",
    "    for future in concurrent.futures.as_completed(future_to_url):\n",
    "        url = future_to_url[future]\n",
    "        try:\n",
    "            data = future.result()\n",
    "        except Exception as exc:\n",
    "            print('%r generated an exception: %s' % (url, exc))\n",
    "        else:\n",
    "            print('%r page is %d bytes' % (url, len(data)))"
   ]
  }
 ],
 "metadata": {
  "kernelspec": {
   "display_name": "Python 3",
   "language": "python",
   "name": "python3"
  },
  "language_info": {
   "codemirror_mode": {
    "name": "ipython",
    "version": 3
   },
   "file_extension": ".py",
   "mimetype": "text/x-python",
   "name": "python",
   "nbconvert_exporter": "python",
   "pygments_lexer": "ipython3",
   "version": "3.6.5"
  }
 },
 "nbformat": 4,
 "nbformat_minor": 1
}
