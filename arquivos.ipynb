{
 "cells": [
  {
   "cell_type": "markdown",
   "metadata": {
    "deletable": true,
    "editable": true
   },
   "source": [
    "Trabalhando com arquivos\n",
    "==="
   ]
  },
  {
   "cell_type": "markdown",
   "metadata": {
    "deletable": true,
    "editable": true
   },
   "source": [
    "Em Python é fácil trabalharmos com arquivos.  Os principais métodos que usamos são `open()`, `close()`, `read()` e `write()`, com as funções óbvias que os nomes informam."
   ]
  },
  {
   "cell_type": "code",
   "execution_count": null,
   "metadata": {
    "collapsed": true,
    "deletable": true,
    "editable": true
   },
   "outputs": [],
   "source": [
    "# Observe o uso implícito do método read() no loop for abaixo\n",
    "from itertools import islice\n",
    "\n",
    "f = open(\"arquivos.ipynb\", \"rt\")\n",
    "for line in islice(f, 10):\n",
    "    print(line, end=\"\")\n",
    "f.close()"
   ]
  },
  {
   "cell_type": "code",
   "execution_count": null,
   "metadata": {
    "collapsed": false,
    "deletable": true,
    "editable": true
   },
   "outputs": [],
   "source": [
    "# Para escrever em um arquivo basta usarmos o método write()\n",
    "f1 = open(\"arquivos.ipynb\", \"rt\")\n",
    "f2 = open(\"arquivos_copia.ipynb\", \"wt\")\n",
    "for line in f1:\n",
    "    f2.write(line)\n",
    "f1.close()\n",
    "f2.close()"
   ]
  },
  {
   "cell_type": "markdown",
   "metadata": {
    "deletable": true,
    "editable": true
   },
   "source": [
    "Observe que existe a necessidade de fechar o arquivo ao final do processamento, independente se o processamento foi bem sucedido ou não.  Esta é o objetivo do método `close()`.  Esta tarefa pode ser automatizada através do uso de `with`."
   ]
  },
  {
   "cell_type": "code",
   "execution_count": null,
   "metadata": {
    "collapsed": false,
    "deletable": true,
    "editable": true
   },
   "outputs": [],
   "source": [
    "with open(\"arquivos.ipynb\", \"rt\") as f1:\n",
    "    with open(\"arquivos_copia.ipynb\", \"wt\") as f2:\n",
    "        for line in f1:\n",
    "            f2.write(line)"
   ]
  },
  {
   "cell_type": "markdown",
   "metadata": {
    "deletable": true,
    "editable": true
   },
   "source": [
    "Gerenciadores de contexto\n",
    "=="
   ]
  },
  {
   "cell_type": "markdown",
   "metadata": {
    "deletable": true,
    "editable": true
   },
   "source": [
    "A instrução `with` pode ser usado com gerenciadores de contexto, que nada mais são do que objetos contendo dois métodos, `__enter__()` e `__exit__(exc_type, exc_val, exc_tb)`.  Os argumentos deste último método referem-se aos dados de qualquer exceção que ocorra durante a execução do corpo da instrução `with`.  Se nenhuma exceção tiver ocorrido, os três parâmetros tem o valor `None`.\n",
    "\n",
    "O valor de retorno do método `__enter__()` é atribuído à variável que segue a cláusula `as` da instrução `with`.  O valor booleano de retorno do método `__exit__()` é usado para indicar se a exceção ocorrida no corpo de `with` deve ser suprimida (no caso de retornar `True`) ou não."
   ]
  },
  {
   "cell_type": "code",
   "execution_count": null,
   "metadata": {
    "collapsed": false,
    "deletable": true,
    "editable": true
   },
   "outputs": [],
   "source": [
    "# Exemplo simples de um gerenciador de contexto\n",
    "class My_Context:\n",
    "    def __enter__(self):\n",
    "        print(\"Entrando no gerenciador de contexto\")\n",
    "        return []\n",
    "    \n",
    "    def __exit__(self, exc_type, exc_val, exc_tb):\n",
    "        if not exc_type:\n",
    "            print(\"Saindo do gerenciador de contexto sem ter ocorrido exceção\")\n",
    "            return True\n",
    "        print(\"Saindo do gerenciador de contexto tendo ocorrido a exceção do tipo\", exc_type)\n",
    "        if exc_type == RuntimeError:\n",
    "            return False\n",
    "        else:\n",
    "            return True\n",
    "\n",
    "with My_Context() as m:\n",
    "    m.append(1)\n",
    "    print(m)\n",
    "\n",
    "with My_Context() as m:\n",
    "    raise ValueError(\"Tentativa 1\")\n",
    "    \n",
    "try:\n",
    "    with My_Context() as m:\n",
    "        raise RuntimeError(\"Tentativa 2\")\n",
    "except RuntimeError as e:\n",
    "    print(\"ERROR: Exceção capturada:\", e)"
   ]
  },
  {
   "cell_type": "markdown",
   "metadata": {
    "deletable": true,
    "editable": true
   },
   "source": [
    "Podemos combinar um gerador, visto na última aula, com um tipo especial de decorador para criar um gerenciador de contexto facilmente.  Façamos um parênteses aqui para explicar o conceito de decorador."
   ]
  },
  {
   "cell_type": "markdown",
   "metadata": {
    "deletable": true,
    "editable": true
   },
   "source": [
    "Decoradores\n",
    "==="
   ]
  },
  {
   "cell_type": "markdown",
   "metadata": {
    "deletable": true,
    "editable": true
   },
   "source": [
    "Em Python, um *decorador* nada mais é do que uma função que aceita uma função como argumento e retorna uma função.  A ideia é que o decorador realize alguma tarefa antes de chamar a função original em si."
   ]
  },
  {
   "cell_type": "code",
   "execution_count": null,
   "metadata": {
    "collapsed": false,
    "deletable": true,
    "editable": true
   },
   "outputs": [],
   "source": [
    "def decorator(f):\n",
    "    def f_ret(*args):\n",
    "        print(\"Tarefa a realizar antes de chamar a função f\")\n",
    "        res = f(*args)\n",
    "        print(\"Tarefa a realizar depois de chamar a função f\")\n",
    "        return res\n",
    "    return f_ret\n",
    "\n",
    "@decorator\n",
    "def g(a, b):\n",
    "    print(\"Realizando a tarefa original...\")\n",
    "    print(a, b)\n",
    "    print(\"Terminada a tarefa original\")\n",
    "    return \"É o fim...\"\n",
    "\n",
    "res = g(10, 20)\n",
    "print(res)"
   ]
  },
  {
   "cell_type": "markdown",
   "metadata": {
    "deletable": true,
    "editable": true
   },
   "source": [
    "** Exercícios **"
   ]
  },
  {
   "cell_type": "markdown",
   "metadata": {
    "deletable": true,
    "editable": true
   },
   "source": [
    "Crie um decorador usando a função `time` do módulo `time` para medir o tempo de execução de uma função qualquer.  Aplique-o a uma função sua."
   ]
  },
  {
   "cell_type": "code",
   "execution_count": null,
   "metadata": {
    "collapsed": true
   },
   "outputs": [],
   "source": [
    "import time\n",
    "\n",
    "def decorator(f):\n",
    "    def f_ret(*args):\n",
    "        t1 = time.time()\n",
    "        res = f(*args)\n",
    "        t2 = time.time()\n",
    "        return res, t2 - t1\n",
    "    return f_ret\n",
    "\n",
    "@decorator\n",
    "def g():\n",
    "    time.sleep(1)\n",
    "\n",
    "print(g())"
   ]
  },
  {
   "cell_type": "markdown",
   "metadata": {
    "deletable": true,
    "editable": true
   },
   "source": [
    "Gerenciadores de contexto (parte 2)\n",
    "=="
   ]
  },
  {
   "cell_type": "markdown",
   "metadata": {
    "deletable": true,
    "editable": true
   },
   "source": [
    "Visto decoradores, estudemos sua aplicação para geração de gerenciadores de contexto.\n",
    "\n",
    "Nesse exemplo, declaramos um tipo especial de gerador e o decoramos com um tipo especial de decorador definido por `contextlib.contextmanager`.  Este decorador, após criar o gerador, o chama **exatamente 1 vez**.  A criação do gerador se dá antes de entrar no bloco da instrução `with`, no método `__enter__()` do `contextmanager`.  Pelo que sabemos do gerador, isto executará as instruções do gerador até a primeira instrução `yield`.  O valor retornado por `__enter__()` é então o valor retornado por essa instrução `yield`.\n",
    "\n",
    "A chamada do gerador se dá no método `__exit__()`.  Isto executa as instruções do gerador que seguem ao primeiro `yield` e que vão até o segundo `yield` ou até o final do gerador, o que vier primeiro.\n",
    "\n",
    "Podemos converter o exemplo acima do gerenciador `My_Context()` como segue abaixo."
   ]
  },
  {
   "cell_type": "code",
   "execution_count": null,
   "metadata": {
    "collapsed": false,
    "deletable": true,
    "editable": true
   },
   "outputs": [],
   "source": [
    "from contextlib import contextmanager\n",
    "\n",
    "@contextmanager\n",
    "def My_Context():\n",
    "    print(\"Entrando no gerenciador de contexto\")\n",
    "    try:\n",
    "        yield []\n",
    "    except:\n",
    "        print(\"Saindo do gerenciador de contexto tendo ocorrido uma exceção\")\n",
    "    else:\n",
    "        print(\"Saindo do gerenciador de contexto sem ter ocorrido exceção\")\n",
    "    \n",
    "with My_Context() as m:\n",
    "    pass\n",
    "\n",
    "with My_Context() as m:\n",
    "    raise ValueError()"
   ]
  },
  {
   "cell_type": "markdown",
   "metadata": {
    "deletable": true,
    "editable": true
   },
   "source": [
    "Observe que neste tipo de construção devemos gerenciar as exceções manualmente.  O decorador `contextmanager` lança qualquer exceção ocorrida no corpo de `with` no início de seu método `__exit__()`."
   ]
  }
 ],
 "metadata": {
  "kernelspec": {
   "display_name": "Python 3",
   "language": "python",
   "name": "python3"
  },
  "language_info": {
   "codemirror_mode": {
    "name": "ipython",
    "version": 3
   },
   "file_extension": ".py",
   "mimetype": "text/x-python",
   "name": "python",
   "nbconvert_exporter": "python",
   "pygments_lexer": "ipython3",
   "version": "3.6.3"
  }
 },
 "nbformat": 4,
 "nbformat_minor": 0
}
