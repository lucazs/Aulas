{
 "cells": [
  {
   "cell_type": "markdown",
   "metadata": {},
   "source": [
    "# Numpy"
   ]
  },
  {
   "cell_type": "markdown",
   "metadata": {},
   "source": [
    "## Introdução"
   ]
  },
  {
   "cell_type": "markdown",
   "metadata": {},
   "source": [
    "Numpy é uma biblioteca para Python que implementa diversas funções e estruturas de dados para uso em aplicações científicas.  Embora as estruturas de dados do Python, em particular as listas, sejam poderosas o suficiente para poderem ser usadas nestas aplicações, elas foram implementadas para uso geral e portanto existe um compromisso com relação ao desempenho.\n",
    "\n",
    "Por esta razão, Numpy oferece estruturas otimizadas para performance e manipulação de arrays e matrizes. Além disso, Numpy contém algumas funções para uso científico e é fortemente integrada com outra biblioteca, a SciPy, que estende a quantidade de funções oferecendo inúmeras funções científicas, como integração, resolução de equações diferenciais, processamento de imagens, estatística e muito mais.\n",
    "\n",
    "Por estas razões, estudaremos estas bibliotecas a fundo."
   ]
  },
  {
   "cell_type": "code",
   "execution_count": null,
   "metadata": {},
   "outputs": [],
   "source": [
    "# Código necessário para as atividades abaixo\n",
    "%matplotlib inline\n",
    "import numpy as np\n",
    "import matplotlib.pyplot as plt"
   ]
  },
  {
   "cell_type": "markdown",
   "metadata": {},
   "source": [
    "## Arrays"
   ]
  },
  {
   "cell_type": "markdown",
   "metadata": {},
   "source": [
    "A estrutura básica em Numpy é a `ndarray`, uma espécie de lista multidimensional.  Além de ser otimizada em termos de desempenho para cálculos numéricos, ela também oferece operações elemento a elemento com uma sintaxe natural, a la Matlab.  Em Numpy, este tipo de operação é denominada de *broadcast*."
   ]
  },
  {
   "cell_type": "code",
   "execution_count": null,
   "metadata": {},
   "outputs": [],
   "source": [
    "# A maneira mais básica de se criar um array em Numpy é através da\n",
    "# função `array` (compare com a criação através da classe `ndarray`\n",
    "# diretamente)\n",
    "fun = lambda x: np.cos(np.pi*x)\n",
    "xs = np.array([0.4, 1.2, 2.3, 4.5, 5.86])\n",
    "ys = fun(xs)\n",
    "plt.plot(xs, ys, \"*\")\n",
    "\n",
    "# Cria um array com 301 pontos indo de 0 a 100 espaçado de forma uniforme\n",
    "t = np.linspace(0, 6, 301)\n",
    "# Traça um gráfico de seno de t por t; observe que usamos a função seno\n",
    "# do Numpy\n",
    "line = plt.plot(t, fun(t))"
   ]
  },
  {
   "cell_type": "code",
   "execution_count": null,
   "metadata": {},
   "outputs": [],
   "source": [
    "# Cria um array com 400 números cujos logs são espaçados uniformemente \n",
    "w = np.logspace(-2, 2, 400)\n",
    "# Traça o gráfico de Bode de um filtro passa-baixa com wc = 1 rad/s\n",
    "plt.semilogx(w, 20*np.log10(np.absolute(1/(1j*f+1))))"
   ]
  },
  {
   "cell_type": "markdown",
   "metadata": {},
   "source": [
    "Vimos acima 2 formas de criar arrays comumente usadas.  Várias outras formas existem."
   ]
  },
  {
   "cell_type": "code",
   "execution_count": null,
   "metadata": {},
   "outputs": [],
   "source": [
    "a1 = np.zeros(10)\n",
    "print(\"Tudo zero: \", a1)\n",
    "\n",
    "a2 = np.ones(15)\n",
    "print(\"Tudo um: \", a2)\n",
    "\n",
    "a3 = np.random.random(5)\n",
    "print(\"Tudo aleatório: \", a3)\n",
    "\n",
    "a4 = np.identity(3)\n",
    "print(\"Matriz identidade:\\n\", a4)\n",
    "\n",
    "a5 = np.zeros_like(a4)\n",
    "print(\"Matriz toda zero:\\n\", a5)"
   ]
  },
  {
   "cell_type": "code",
   "execution_count": null,
   "metadata": {},
   "outputs": [],
   "source": [
    "# Podemos criar também vetores multi-dimensionais\n",
    "m1 = np.empty((3, 5))\n",
    "m2 = np.ones((4, 2))\n",
    "m3 = np.random.randn(2, 3, 4)\n",
    "\n",
    "print(\"Matriz vazia (valores espúrios):\\n\", m1)\n",
    "print()\n",
    "print(\"Tudo 1:\\n\", m2)\n",
    "print()\n",
    "print(\"Uma matriz tridimensional:\\n\", m3)"
   ]
  },
  {
   "cell_type": "code",
   "execution_count": null,
   "metadata": {},
   "outputs": [],
   "source": [
    "# Podemos acessar as dimensões do array através do atributo\n",
    "# shape\n",
    "print(\"As dimensões de m3 são\", m3.shape)"
   ]
  },
  {
   "cell_type": "code",
   "execution_count": null,
   "metadata": {},
   "outputs": [],
   "source": [
    "# Observe que um array unidimensional é diferente de um array\n",
    "# bidimensional com uma das dimensões igual a 1\n",
    "a1 = np.zeros(10)\n",
    "a2 = np.ones((1, 10))\n",
    "a3 = np.ones((10, 1))\n",
    "print(\"a1 = \", a1)\n",
    "print(\"a2 = \", a2)\n",
    "print(\"a3 = \", a3)\n",
    "print(\"Formato de a1: \", a1.shape)\n",
    "print(\"Formato de a2: \", a2.shape)\n",
    "print(\"Formato de a3: \", a3.shape)"
   ]
  },
  {
   "cell_type": "markdown",
   "metadata": {},
   "source": [
    "## Exercícios"
   ]
  },
  {
   "cell_type": "markdown",
   "metadata": {},
   "source": [
    "Usando [`numpy.random.randn`](file:///usr/share/doc/python-numpy-doc/html/reference/generated/numpy.random.randn.html#numpy.random.randn), crie dois vetores de distribuição normal com tamanho $N=1000$ e plote-os, um dando as coordenadas $x$ e o outro dando as coordenadas $y$.  Repita para $N=10000$ e $N=100000$.  Para plotar, use a função `plt.scatter(x, y)`."
   ]
  },
  {
   "cell_type": "markdown",
   "metadata": {},
   "source": [
    "## Acessando elementos"
   ]
  },
  {
   "cell_type": "markdown",
   "metadata": {},
   "source": [
    "Acessar elementos em Numpy é tão ou mais fácil do que em Python em si, principalmente se o array é multidimensional."
   ]
  },
  {
   "cell_type": "code",
   "execution_count": null,
   "metadata": {},
   "outputs": [],
   "source": [
    "# Observe o uso da função reshape() para rearranjar um array\n",
    "a1 = np.random.random(16)\n",
    "print(a1)\n",
    "a2 = np.reshape(a1, (4, 4))\n",
    "print(\"Matriz aleatória:\\n\", a2)\n",
    "# Observe o uso de uma tupla para acessar o elemento\n",
    "print(\"Elemento na 2a linha, 4a coluna:\", a2[1, 3])\n",
    "\n",
    "# Podemos rearranjar o array original por coluna\n",
    "a3 = np.reshape(a1, (4, 4), order=\"F\")\n",
    "print(\"Matriz aleatória:\\n\", a3)"
   ]
  },
  {
   "cell_type": "code",
   "execution_count": null,
   "metadata": {},
   "outputs": [],
   "source": [
    "# Observe que a função reshape não realiza uma cópia de seu argumento\n",
    "a1 = np.zeros(16)\n",
    "a2 = a1.reshape((4, 4))\n",
    "print(\"a1 = \", a1)\n",
    "print(\"a2 = \", a2)\n",
    "\n",
    "a1[4] = 1\n",
    "a2[3, 2] = -1\n",
    "print(\"a1 = \", a1)\n",
    "print(\"a2 = \", a2)"
   ]
  },
  {
   "cell_type": "code",
   "execution_count": null,
   "metadata": {},
   "outputs": [],
   "source": [
    "# Slices também funcionam em Numpy.  Observe que a dimensão de uma slice\n",
    "# é o número de \"fatias\" (coordenadas definidas por \":\") da slice\n",
    "print(\"1a linha:\", a2[0, :])\n",
    "print(\"1a coluna:\", a2[:, 0])\n",
    "print(\"Uma submatriz:\", a2[2:4, 1:3])"
   ]
  },
  {
   "cell_type": "code",
   "execution_count": null,
   "metadata": {},
   "outputs": [],
   "source": [
    "# Da mesma forma que a função reshape(), e diferentemente de Python, slicing\n",
    "# não cria uma nova array\n",
    "a = np.array([[0, 1, 2, 3, 4], [5, 6, 7, 8, 9], \n",
    "              [10, 11, 12, 13, 14], [15, 16, 17, 18, 19]])\n",
    "b = a[2:4, 1:3]\n",
    "b[0, 0] = 100\n",
    "print(\"b = \", b)\n",
    "print(\"a = \", a)"
   ]
  }
 ],
 "metadata": {
  "kernelspec": {
   "display_name": "Python 3",
   "language": "python",
   "name": "python3"
  },
  "language_info": {
   "codemirror_mode": {
    "name": "ipython",
    "version": 3
   },
   "file_extension": ".py",
   "mimetype": "text/x-python",
   "name": "python",
   "nbconvert_exporter": "python",
   "pygments_lexer": "ipython3",
   "version": "3.6.5"
  }
 },
 "nbformat": 4,
 "nbformat_minor": 1
}
